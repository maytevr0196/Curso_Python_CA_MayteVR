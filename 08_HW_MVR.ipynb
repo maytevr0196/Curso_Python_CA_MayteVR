{
 "cells": [
  {
   "cell_type": "markdown",
   "id": "023309da",
   "metadata": {},
   "source": [
    "# *Homework no.8*\n",
    "## **Exercise:**\n",
    "- Perform Kruskal-Wallis test and plot a box plot for DIC and temperature data."
   ]
  },
  {
   "cell_type": "code",
   "execution_count": 5,
   "id": "19b28a95",
   "metadata": {},
   "outputs": [],
   "source": [
    "def import_csv(file):\n",
    "    import pandas as pd\n",
    "    return pd.read_csv(file)\n",
    "path = \"../Curso_Python_Mayte/data/Terminos_lagoon_TA_DIC_2023_RawData.csv\"\n",
    "CO2Data = import_csv(path)"
   ]
  },
  {
   "cell_type": "code",
   "execution_count": 6,
   "id": "506b34b2",
   "metadata": {},
   "outputs": [
    {
     "data": {
      "application/vnd.microsoft.datawrangler.viewer.v0+json": {
       "columns": [
        {
         "name": "index",
         "rawType": "int64",
         "type": "integer"
        },
        {
         "name": "sample",
         "rawType": "object",
         "type": "string"
        },
        {
         "name": "date",
         "rawType": "object",
         "type": "string"
        },
        {
         "name": "estuary",
         "rawType": "object",
         "type": "string"
        },
        {
         "name": "area",
         "rawType": "object",
         "type": "string"
        },
        {
         "name": "station",
         "rawType": "object",
         "type": "string"
        },
        {
         "name": "layer_depth",
         "rawType": "object",
         "type": "string"
        },
        {
         "name": "season",
         "rawType": "object",
         "type": "string"
        },
        {
         "name": "chlorophy_microg_l",
         "rawType": "float64",
         "type": "float"
        },
        {
         "name": "cond_microsiemens_cm",
         "rawType": "float64",
         "type": "float"
        },
        {
         "name": "depth_m",
         "rawType": "float64",
         "type": "float"
        },
        {
         "name": "do_percent_sat",
         "rawType": "float64",
         "type": "float"
        },
        {
         "name": "do_mg_l",
         "rawType": "float64",
         "type": "float"
        },
        {
         "name": "sal_psu",
         "rawType": "float64",
         "type": "float"
        },
        {
         "name": "sp_cond_microsiemens_cm",
         "rawType": "float64",
         "type": "float"
        },
        {
         "name": "turbidity_fnu",
         "rawType": "float64",
         "type": "float"
        },
        {
         "name": "temp_c",
         "rawType": "float64",
         "type": "float"
        },
        {
         "name": "latitude",
         "rawType": "float64",
         "type": "float"
        },
        {
         "name": "longitude",
         "rawType": "float64",
         "type": "float"
        },
        {
         "name": "dic_micromol_kg",
         "rawType": "int64",
         "type": "integer"
        },
        {
         "name": "ta_micromol_kg",
         "rawType": "int64",
         "type": "integer"
        },
        {
         "name": "dummy_data",
         "rawType": "float64",
         "type": "float"
        }
       ],
       "ref": "bd47a120-23fd-4407-a42f-526172e6ace6",
       "rows": [
        [
         "0",
         "CDL01S",
         "5/3/2020",
         "Candelaria",
         "River",
         "CDL01",
         "Surface",
         "Dry",
         "0.36",
         "7015.4",
         "0.464",
         "93.9",
         "7.12",
         "3.56",
         "6547.7",
         "1.47",
         "28.74",
         "18.55736",
         "-91.25012",
         "3915",
         "3863",
         "3685.0"
        ],
        [
         "1",
         "CDL01F",
         "5/3/2020",
         "Candelaria",
         "River",
         "CDL01",
         "Bottom",
         "Dry",
         "4.19",
         "29886.1",
         "7.792",
         "70.1",
         "4.9",
         "16.97",
         "27751.2",
         "95.33",
         "29.028",
         "18.55722",
         "-91.2499",
         "3698",
         "3685",
         null
        ],
        [
         "2",
         "CDL02S",
         "5/3/2020",
         "Candelaria",
         "River",
         "CDL02",
         "Surface",
         "Dry",
         "0.92",
         "16691.1",
         "0.453",
         "95.9",
         "6.99",
         "8.94",
         "15429.1",
         "5.5",
         "29.283",
         "18.61007",
         "-91.2441",
         "3724",
         "3708",
         "3708.0"
        ],
        [
         "3",
         "CDL02F",
         "5/3/2020",
         "Candelaria",
         "River",
         "CDL02",
         "Bottom",
         "Dry",
         "2.23",
         "24847.4",
         "1.261",
         "91.5",
         "6.52",
         "13.87",
         "23074.0",
         "13.44",
         "29.024",
         "18.61005",
         "-91.24403",
         "3667",
         "3992",
         "3992.0"
        ],
        [
         "4",
         "CDL03S",
         "5/3/2020",
         "Candelaria",
         "River",
         "CDL03",
         "Surface",
         "Dry",
         "0.58",
         "46341.6",
         "0.465",
         "93.4",
         "6.24",
         "28.06",
         "43670.8",
         "3.6",
         "28.202",
         "18.63166",
         "-91.29359",
         "2928",
         "3023",
         "3023.0"
        ]
       ],
       "shape": {
        "columns": 21,
        "rows": 5
       }
      },
      "text/html": [
       "<div>\n",
       "<style scoped>\n",
       "    .dataframe tbody tr th:only-of-type {\n",
       "        vertical-align: middle;\n",
       "    }\n",
       "\n",
       "    .dataframe tbody tr th {\n",
       "        vertical-align: top;\n",
       "    }\n",
       "\n",
       "    .dataframe thead th {\n",
       "        text-align: right;\n",
       "    }\n",
       "</style>\n",
       "<table border=\"1\" class=\"dataframe\">\n",
       "  <thead>\n",
       "    <tr style=\"text-align: right;\">\n",
       "      <th></th>\n",
       "      <th>sample</th>\n",
       "      <th>date</th>\n",
       "      <th>estuary</th>\n",
       "      <th>area</th>\n",
       "      <th>station</th>\n",
       "      <th>layer_depth</th>\n",
       "      <th>season</th>\n",
       "      <th>chlorophy_microg_l</th>\n",
       "      <th>cond_microsiemens_cm</th>\n",
       "      <th>depth_m</th>\n",
       "      <th>...</th>\n",
       "      <th>do_mg_l</th>\n",
       "      <th>sal_psu</th>\n",
       "      <th>sp_cond_microsiemens_cm</th>\n",
       "      <th>turbidity_fnu</th>\n",
       "      <th>temp_c</th>\n",
       "      <th>latitude</th>\n",
       "      <th>longitude</th>\n",
       "      <th>dic_micromol_kg</th>\n",
       "      <th>ta_micromol_kg</th>\n",
       "      <th>dummy_data</th>\n",
       "    </tr>\n",
       "  </thead>\n",
       "  <tbody>\n",
       "    <tr>\n",
       "      <th>0</th>\n",
       "      <td>CDL01S</td>\n",
       "      <td>5/3/2020</td>\n",
       "      <td>Candelaria</td>\n",
       "      <td>River</td>\n",
       "      <td>CDL01</td>\n",
       "      <td>Surface</td>\n",
       "      <td>Dry</td>\n",
       "      <td>0.36</td>\n",
       "      <td>7015.4</td>\n",
       "      <td>0.464</td>\n",
       "      <td>...</td>\n",
       "      <td>7.12</td>\n",
       "      <td>3.56</td>\n",
       "      <td>6547.7</td>\n",
       "      <td>1.47</td>\n",
       "      <td>28.740</td>\n",
       "      <td>18.55736</td>\n",
       "      <td>-91.25012</td>\n",
       "      <td>3915</td>\n",
       "      <td>3863</td>\n",
       "      <td>3685.0</td>\n",
       "    </tr>\n",
       "    <tr>\n",
       "      <th>1</th>\n",
       "      <td>CDL01F</td>\n",
       "      <td>5/3/2020</td>\n",
       "      <td>Candelaria</td>\n",
       "      <td>River</td>\n",
       "      <td>CDL01</td>\n",
       "      <td>Bottom</td>\n",
       "      <td>Dry</td>\n",
       "      <td>4.19</td>\n",
       "      <td>29886.1</td>\n",
       "      <td>7.792</td>\n",
       "      <td>...</td>\n",
       "      <td>4.90</td>\n",
       "      <td>16.97</td>\n",
       "      <td>27751.2</td>\n",
       "      <td>95.33</td>\n",
       "      <td>29.028</td>\n",
       "      <td>18.55722</td>\n",
       "      <td>-91.24990</td>\n",
       "      <td>3698</td>\n",
       "      <td>3685</td>\n",
       "      <td>NaN</td>\n",
       "    </tr>\n",
       "    <tr>\n",
       "      <th>2</th>\n",
       "      <td>CDL02S</td>\n",
       "      <td>5/3/2020</td>\n",
       "      <td>Candelaria</td>\n",
       "      <td>River</td>\n",
       "      <td>CDL02</td>\n",
       "      <td>Surface</td>\n",
       "      <td>Dry</td>\n",
       "      <td>0.92</td>\n",
       "      <td>16691.1</td>\n",
       "      <td>0.453</td>\n",
       "      <td>...</td>\n",
       "      <td>6.99</td>\n",
       "      <td>8.94</td>\n",
       "      <td>15429.1</td>\n",
       "      <td>5.50</td>\n",
       "      <td>29.283</td>\n",
       "      <td>18.61007</td>\n",
       "      <td>-91.24410</td>\n",
       "      <td>3724</td>\n",
       "      <td>3708</td>\n",
       "      <td>3708.0</td>\n",
       "    </tr>\n",
       "    <tr>\n",
       "      <th>3</th>\n",
       "      <td>CDL02F</td>\n",
       "      <td>5/3/2020</td>\n",
       "      <td>Candelaria</td>\n",
       "      <td>River</td>\n",
       "      <td>CDL02</td>\n",
       "      <td>Bottom</td>\n",
       "      <td>Dry</td>\n",
       "      <td>2.23</td>\n",
       "      <td>24847.4</td>\n",
       "      <td>1.261</td>\n",
       "      <td>...</td>\n",
       "      <td>6.52</td>\n",
       "      <td>13.87</td>\n",
       "      <td>23074.0</td>\n",
       "      <td>13.44</td>\n",
       "      <td>29.024</td>\n",
       "      <td>18.61005</td>\n",
       "      <td>-91.24403</td>\n",
       "      <td>3667</td>\n",
       "      <td>3992</td>\n",
       "      <td>3992.0</td>\n",
       "    </tr>\n",
       "    <tr>\n",
       "      <th>4</th>\n",
       "      <td>CDL03S</td>\n",
       "      <td>5/3/2020</td>\n",
       "      <td>Candelaria</td>\n",
       "      <td>River</td>\n",
       "      <td>CDL03</td>\n",
       "      <td>Surface</td>\n",
       "      <td>Dry</td>\n",
       "      <td>0.58</td>\n",
       "      <td>46341.6</td>\n",
       "      <td>0.465</td>\n",
       "      <td>...</td>\n",
       "      <td>6.24</td>\n",
       "      <td>28.06</td>\n",
       "      <td>43670.8</td>\n",
       "      <td>3.60</td>\n",
       "      <td>28.202</td>\n",
       "      <td>18.63166</td>\n",
       "      <td>-91.29359</td>\n",
       "      <td>2928</td>\n",
       "      <td>3023</td>\n",
       "      <td>3023.0</td>\n",
       "    </tr>\n",
       "  </tbody>\n",
       "</table>\n",
       "<p>5 rows × 21 columns</p>\n",
       "</div>"
      ],
      "text/plain": [
       "   sample      date     estuary   area station layer_depth season  \\\n",
       "0  CDL01S  5/3/2020  Candelaria  River   CDL01     Surface    Dry   \n",
       "1  CDL01F  5/3/2020  Candelaria  River   CDL01      Bottom    Dry   \n",
       "2  CDL02S  5/3/2020  Candelaria  River   CDL02     Surface    Dry   \n",
       "3  CDL02F  5/3/2020  Candelaria  River   CDL02      Bottom    Dry   \n",
       "4  CDL03S  5/3/2020  Candelaria  River   CDL03     Surface    Dry   \n",
       "\n",
       "   chlorophy_microg_l  cond_microsiemens_cm  depth_m  ...  do_mg_l  sal_psu  \\\n",
       "0                0.36                7015.4    0.464  ...     7.12     3.56   \n",
       "1                4.19               29886.1    7.792  ...     4.90    16.97   \n",
       "2                0.92               16691.1    0.453  ...     6.99     8.94   \n",
       "3                2.23               24847.4    1.261  ...     6.52    13.87   \n",
       "4                0.58               46341.6    0.465  ...     6.24    28.06   \n",
       "\n",
       "   sp_cond_microsiemens_cm  turbidity_fnu  temp_c  latitude  longitude  \\\n",
       "0                   6547.7           1.47  28.740  18.55736  -91.25012   \n",
       "1                  27751.2          95.33  29.028  18.55722  -91.24990   \n",
       "2                  15429.1           5.50  29.283  18.61007  -91.24410   \n",
       "3                  23074.0          13.44  29.024  18.61005  -91.24403   \n",
       "4                  43670.8           3.60  28.202  18.63166  -91.29359   \n",
       "\n",
       "   dic_micromol_kg  ta_micromol_kg  dummy_data  \n",
       "0             3915            3863      3685.0  \n",
       "1             3698            3685         NaN  \n",
       "2             3724            3708      3708.0  \n",
       "3             3667            3992      3992.0  \n",
       "4             2928            3023      3023.0  \n",
       "\n",
       "[5 rows x 21 columns]"
      ]
     },
     "execution_count": 6,
     "metadata": {},
     "output_type": "execute_result"
    }
   ],
   "source": [
    "CO2Data.head()"
   ]
  },
  {
   "cell_type": "code",
   "execution_count": 7,
   "id": "c7aa6b2f",
   "metadata": {},
   "outputs": [],
   "source": [
    "from scipy.stats import kruskal\n",
    "\n",
    "def kruskal_wallis_test(*groups, alpha=0.05):\n",
    "    \"\"\"\n",
    "    Performs the Kruskal-Wallis H-test for independent samples.\n",
    "    Accepts multiple groups as arguments.\n",
    "    Prints the H statistic, p-value, and interpretation.\n",
    "    \"\"\"\n",
    "    result = kruskal(*groups)\n",
    "    \n",
    "    print(f\"H statistic = {result.statistic}\")\n",
    "    print(f\"p-value = {result.pvalue}\")\n",
    "    \n",
    "    if result.pvalue < alpha:\n",
    "        print(\"The difference between groups is statistically significant.\")\n",
    "    else:\n",
    "        print(\"No statistically significant difference between groups.\")\n"
   ]
  },
  {
   "cell_type": "code",
   "execution_count": 8,
   "id": "7fc1b064",
   "metadata": {},
   "outputs": [],
   "source": [
    "import scikit_posthocs as sp\n",
    "# You need to install the scikit-posthocs package: conda install -c conda-forge scikit-posthocs\n",
    "\n",
    "def dunn_posthoc(data, group_col, value_col, p_adjust='bonferroni'):\n",
    "    \"\"\"\n",
    "    Runs Dunn's post-hoc test after Kruskal-Wallis.\n",
    "    \"\"\"\n",
    "    result = sp.posthoc_dunn(data, val_col=value_col, group_col=group_col, p_adjust=p_adjust)\n",
    "    print(result)\n",
    "    return result"
   ]
  },
  {
   "cell_type": "code",
   "execution_count": 9,
   "id": "b2cfcca0",
   "metadata": {},
   "outputs": [
    {
     "data": {
      "image/png": "[encoded data removed]",
      "text/plain": [
       "<Figure size 640x480 with 1 Axes>"
      ]
     },
     "metadata": {},
     "output_type": "display_data"
    }
   ],
   "source": [
    "# Plot DIC values for each area of the lagoon using seaborn\n",
    "import seaborn as sns\n",
    "import matplotlib.pyplot as plt\n",
    "\n",
    "my_colors = [\"#9159EA\", \"#4757ea\", \"#259773\"]\n",
    "sns.set(font_scale=1, style=\"ticks\", palette= my_colors)\n",
    "\n",
    "sns.boxplot(x='area', y='dic_micromol_kg', data=CO2Data)\n",
    "plt.xlabel('Area of the lagoon')\n",
    "plt.ylabel('DIC ($\\mu mol \\; kg^{-1}$')\n",
    "plt.title('DIC by Area of the Lagoon')\n",
    "plt.show()"
   ]
  },
  {
   "cell_type": "code",
   "execution_count": 11,
   "id": "8b9c2a04",
   "metadata": {},
   "outputs": [],
   "source": [
    "# Select the data for each area of the lagoon\n",
    "dic_river = CO2Data[CO2Data['area'] == 'River']['dic_micromol_kg']\n",
    "dic_plume = CO2Data[CO2Data['area'] == 'Plume']['dic_micromol_kg']\n",
    "dic_coast= CO2Data[CO2Data['area'] == 'Coast']['dic_micromol_kg']"
   ]
  },
  {
   "cell_type": "code",
   "execution_count": 12,
   "id": "86c07ef6",
   "metadata": {},
   "outputs": [
    {
     "name": "stdout",
     "output_type": "stream",
     "text": [
      "H statistic = 55.889669058187486\n",
      "p-value = 7.306553461098262e-13\n",
      "The difference between groups is statistically significant.\n"
     ]
    }
   ],
   "source": [
    "# Perform the Kruskal-Wallis test\n",
    "kruskal_wallis_test(dic_river, dic_plume, dic_coast)"
   ]
  },
  {
   "cell_type": "code",
   "execution_count": 14,
   "id": "ae3f69c3",
   "metadata": {},
   "outputs": [
    {
     "name": "stdout",
     "output_type": "stream",
     "text": [
      "              Coast     Plume         River\n",
      "Coast  1.000000e+00  0.063144  7.204720e-13\n",
      "Plume  6.314392e-02  1.000000  1.885873e-06\n",
      "River  7.204720e-13  0.000002  1.000000e+00\n"
     ]
    },
    {
     "data": {
      "application/vnd.microsoft.datawrangler.viewer.v0+json": {
       "columns": [
        {
         "name": "index",
         "rawType": "object",
         "type": "string"
        },
        {
         "name": "Coast",
         "rawType": "float64",
         "type": "float"
        },
        {
         "name": "Plume",
         "rawType": "float64",
         "type": "float"
        },
        {
         "name": "River",
         "rawType": "float64",
         "type": "float"
        }
       ],
       "ref": "5bdb3d14-794f-459b-bcc4-ae8ddfdc2cd1",
       "rows": [
        [
         "Coast",
         "1.0",
         "0.06314391842749771",
         "7.204719560883086e-13"
        ],
        [
         "Plume",
         "0.06314391842749771",
         "1.0",
         "1.885872912149332e-06"
        ],
        [
         "River",
         "7.204719560883086e-13",
         "1.885872912149332e-06",
         "1.0"
        ]
       ],
       "shape": {
        "columns": 3,
        "rows": 3
       }
      },
      "text/html": [
       "<div>\n",
       "<style scoped>\n",
       "    .dataframe tbody tr th:only-of-type {\n",
       "        vertical-align: middle;\n",
       "    }\n",
       "\n",
       "    .dataframe tbody tr th {\n",
       "        vertical-align: top;\n",
       "    }\n",
       "\n",
       "    .dataframe thead th {\n",
       "        text-align: right;\n",
       "    }\n",
       "</style>\n",
       "<table border=\"1\" class=\"dataframe\">\n",
       "  <thead>\n",
       "    <tr style=\"text-align: right;\">\n",
       "      <th></th>\n",
       "      <th>Coast</th>\n",
       "      <th>Plume</th>\n",
       "      <th>River</th>\n",
       "    </tr>\n",
       "  </thead>\n",
       "  <tbody>\n",
       "    <tr>\n",
       "      <th>Coast</th>\n",
       "      <td>1.000000e+00</td>\n",
       "      <td>0.063144</td>\n",
       "      <td>7.204720e-13</td>\n",
       "    </tr>\n",
       "    <tr>\n",
       "      <th>Plume</th>\n",
       "      <td>6.314392e-02</td>\n",
       "      <td>1.000000</td>\n",
       "      <td>1.885873e-06</td>\n",
       "    </tr>\n",
       "    <tr>\n",
       "      <th>River</th>\n",
       "      <td>7.204720e-13</td>\n",
       "      <td>0.000002</td>\n",
       "      <td>1.000000e+00</td>\n",
       "    </tr>\n",
       "  </tbody>\n",
       "</table>\n",
       "</div>"
      ],
      "text/plain": [
       "              Coast     Plume         River\n",
       "Coast  1.000000e+00  0.063144  7.204720e-13\n",
       "Plume  6.314392e-02  1.000000  1.885873e-06\n",
       "River  7.204720e-13  0.000002  1.000000e+00"
      ]
     },
     "execution_count": 14,
     "metadata": {},
     "output_type": "execute_result"
    }
   ],
   "source": [
    "dunn_posthoc(CO2Data, 'area', 'dic_micromol_kg')"
   ]
  },
  {
   "cell_type": "code",
   "execution_count": 15,
   "id": "91ff17e0",
   "metadata": {},
   "outputs": [
    {
     "data": {
      "image/png": "[encoded data removed]",
      "text/plain": [
       "<Figure size 640x480 with 1 Axes>"
      ]
     },
     "metadata": {},
     "output_type": "display_data"
    }
   ],
   "source": [
    "# Plot temperature values for each area of the lagoon using seaborn\n",
    "import seaborn as sns\n",
    "import matplotlib.pyplot as plt\n",
    "\n",
    "my_colors = [\"#42D42E\", \"#daea47\", \"#076044\"]\n",
    "sns.set(font_scale=1, style=\"ticks\", palette= my_colors)\n",
    "\n",
    "sns.boxplot(x='area', y='temp_c', data=CO2Data)\n",
    "plt.xlabel('Area of the lagoon')\n",
    "plt.ylabel('Temperature (°C)')\n",
    "plt.title('Temperature by Area of the Lagoon')\n",
    "plt.show()"
   ]
  },
  {
   "cell_type": "code",
   "execution_count": 16,
   "id": "c4012f87",
   "metadata": {},
   "outputs": [],
   "source": [
    "# Select the data for each area of the lagoon\n",
    "t_river = CO2Data[CO2Data['area'] == 'River']['temp_c']\n",
    "t_plume = CO2Data[CO2Data['area'] == 'Plume']['temp_c']\n",
    "t_coast= CO2Data[CO2Data['area'] == 'Coast']['temp_c']"
   ]
  },
  {
   "cell_type": "code",
   "execution_count": 17,
   "id": "81e4b6dc",
   "metadata": {},
   "outputs": [
    {
     "name": "stdout",
     "output_type": "stream",
     "text": [
      "H statistic = 7.6996429549091365\n",
      "p-value = 0.021283535690208223\n",
      "The difference between groups is statistically significant.\n"
     ]
    }
   ],
   "source": [
    "# Perform the Kruskal-Wallis test\n",
    "kruskal_wallis_test(t_river, t_plume, t_coast)"
   ]
  },
  {
   "cell_type": "code",
   "execution_count": 18,
   "id": "41e8bba7",
   "metadata": {},
   "outputs": [
    {
     "name": "stdout",
     "output_type": "stream",
     "text": [
      "          Coast    Plume     River\n",
      "Coast  1.000000  0.06468  0.038761\n",
      "Plume  0.064680  1.00000  1.000000\n",
      "River  0.038761  1.00000  1.000000\n"
     ]
    },
    {
     "data": {
      "application/vnd.microsoft.datawrangler.viewer.v0+json": {
       "columns": [
        {
         "name": "index",
         "rawType": "object",
         "type": "string"
        },
        {
         "name": "Coast",
         "rawType": "float64",
         "type": "float"
        },
        {
         "name": "Plume",
         "rawType": "float64",
         "type": "float"
        },
        {
         "name": "River",
         "rawType": "float64",
         "type": "float"
        }
       ],
       "ref": "c01f5b82-b5e7-454f-a3db-9fe218c02099",
       "rows": [
        [
         "Coast",
         "1.0",
         "0.06468016674704698",
         "0.03876148053811021"
        ],
        [
         "Plume",
         "0.06468016674704698",
         "1.0",
         "1.0"
        ],
        [
         "River",
         "0.03876148053811021",
         "1.0",
         "1.0"
        ]
       ],
       "shape": {
        "columns": 3,
        "rows": 3
       }
      },
      "text/html": [
       "<div>\n",
       "<style scoped>\n",
       "    .dataframe tbody tr th:only-of-type {\n",
       "        vertical-align: middle;\n",
       "    }\n",
       "\n",
       "    .dataframe tbody tr th {\n",
       "        vertical-align: top;\n",
       "    }\n",
       "\n",
       "    .dataframe thead th {\n",
       "        text-align: right;\n",
       "    }\n",
       "</style>\n",
       "<table border=\"1\" class=\"dataframe\">\n",
       "  <thead>\n",
       "    <tr style=\"text-align: right;\">\n",
       "      <th></th>\n",
       "      <th>Coast</th>\n",
       "      <th>Plume</th>\n",
       "      <th>River</th>\n",
       "    </tr>\n",
       "  </thead>\n",
       "  <tbody>\n",
       "    <tr>\n",
       "      <th>Coast</th>\n",
       "      <td>1.000000</td>\n",
       "      <td>0.06468</td>\n",
       "      <td>0.038761</td>\n",
       "    </tr>\n",
       "    <tr>\n",
       "      <th>Plume</th>\n",
       "      <td>0.064680</td>\n",
       "      <td>1.00000</td>\n",
       "      <td>1.000000</td>\n",
       "    </tr>\n",
       "    <tr>\n",
       "      <th>River</th>\n",
       "      <td>0.038761</td>\n",
       "      <td>1.00000</td>\n",
       "      <td>1.000000</td>\n",
       "    </tr>\n",
       "  </tbody>\n",
       "</table>\n",
       "</div>"
      ],
      "text/plain": [
       "          Coast    Plume     River\n",
       "Coast  1.000000  0.06468  0.038761\n",
       "Plume  0.064680  1.00000  1.000000\n",
       "River  0.038761  1.00000  1.000000"
      ]
     },
     "execution_count": 18,
     "metadata": {},
     "output_type": "execute_result"
    }
   ],
   "source": [
    "dunn_posthoc(CO2Data, 'area', 'temp_c')"
   ]
  }
 ],
 "metadata": {
  "kernelspec": {
   "display_name": "base",
   "language": "python",
   "name": "python3"
  },
  "language_info": {
   "codemirror_mode": {
    "name": "ipython",
    "version": 3
   },
   "file_extension": ".py",
   "mimetype": "text/x-python",
   "name": "python",
   "nbconvert_exporter": "python",
   "pygments_lexer": "ipython3",
   "version": "3.13.5"
  }
 },
 "nbformat": 4,
 "nbformat_minor": 5
}
