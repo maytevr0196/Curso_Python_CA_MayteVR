{
 "cells": [
  {
   "cell_type": "markdown",
   "id": "b038d99c",
   "metadata": {},
   "source": [
    "# *Homework no.6*\n",
    "\n",
    "## **1. Respond to the following question: When is it appropriate to use the Kolmogorov-Smirnov test instead of the Shapiro-Wilk test?**"
   ]
  },
  {
   "cell_type": "markdown",
   "id": "aa95dd8a",
   "metadata": {},
   "source": [
    "-*Shapiro–Wilk*: Best choice for testing normality, especially with small or moderate sample sizes (n < ~2000). It is more powerful at detecting deviations from normality.\n",
    "\n",
    "-*Kolmogorov–Smirnov (K–S)*: More general test, used to compare a sample with any continuous distribution (not only normal). It is more appropriate for large samples but less sensitive to deviations. If distribution parameters are estimated, the Lilliefors correction is preferred.\n",
    "\n",
    "https://pmc.ncbi.nlm.nih.gov/articles/PMC6350423/"
   ]
  },
  {
   "cell_type": "markdown",
   "id": "82dd07bf",
   "metadata": {},
   "source": [
    "## **2. Based on the previous answer, perform the appropriate test to assess normality in the DIC (Dissolved Inorganic Carbon) and Salinity datasets.**"
   ]
  },
  {
   "cell_type": "code",
   "execution_count": 2,
   "id": "43b3753f",
   "metadata": {},
   "outputs": [],
   "source": [
    "def import_csv(file):\n",
    "    import pandas as pd\n",
    "    return pd.read_csv(file)\n",
    "path = \"../Curso_Python_Mayte/data/Terminos_lagoon_TA_DIC_2023_RawData.csv\"\n",
    "CO2Data = import_csv(path)"
   ]
  },
  {
   "cell_type": "code",
   "execution_count": 3,
   "id": "776431d2",
   "metadata": {},
   "outputs": [
    {
     "data": {
      "application/vnd.microsoft.datawrangler.viewer.v0+json": {
       "columns": [
        {
         "name": "index",
         "rawType": "int64",
         "type": "integer"
        },
        {
         "name": "sample",
         "rawType": "object",
         "type": "string"
        },
        {
         "name": "date",
         "rawType": "object",
         "type": "string"
        },
        {
         "name": "estuary",
         "rawType": "object",
         "type": "string"
        },
        {
         "name": "area",
         "rawType": "object",
         "type": "string"
        },
        {
         "name": "station",
         "rawType": "object",
         "type": "string"
        },
        {
         "name": "layer_depth",
         "rawType": "object",
         "type": "string"
        },
        {
         "name": "season",
         "rawType": "object",
         "type": "string"
        },
        {
         "name": "chlorophy_microg_l",
         "rawType": "float64",
         "type": "float"
        },
        {
         "name": "cond_microsiemens_cm",
         "rawType": "float64",
         "type": "float"
        },
        {
         "name": "depth_m",
         "rawType": "float64",
         "type": "float"
        },
        {
         "name": "do_percent_sat",
         "rawType": "float64",
         "type": "float"
        },
        {
         "name": "do_mg_l",
         "rawType": "float64",
         "type": "float"
        },
        {
         "name": "sal_psu",
         "rawType": "float64",
         "type": "float"
        },
        {
         "name": "sp_cond_microsiemens_cm",
         "rawType": "float64",
         "type": "float"
        },
        {
         "name": "turbidity_fnu",
         "rawType": "float64",
         "type": "float"
        },
        {
         "name": "temp_c",
         "rawType": "float64",
         "type": "float"
        },
        {
         "name": "latitude",
         "rawType": "float64",
         "type": "float"
        },
        {
         "name": "longitude",
         "rawType": "float64",
         "type": "float"
        },
        {
         "name": "dic_micromol_kg",
         "rawType": "int64",
         "type": "integer"
        },
        {
         "name": "ta_micromol_kg",
         "rawType": "int64",
         "type": "integer"
        },
        {
         "name": "dummy_data",
         "rawType": "float64",
         "type": "float"
        }
       ],
       "ref": "5dea1414-ca78-4798-85ba-43b9a50c4475",
       "rows": [
        [
         "0",
         "CDL01S",
         "5/3/2020",
         "Candelaria",
         "River",
         "CDL01",
         "Surface",
         "Dry",
         "0.36",
         "7015.4",
         "0.464",
         "93.9",
         "7.12",
         "3.56",
         "6547.7",
         "1.47",
         "28.74",
         "18.55736",
         "-91.25012",
         "3915",
         "3863",
         "3685.0"
        ],
        [
         "1",
         "CDL01F",
         "5/3/2020",
         "Candelaria",
         "River",
         "CDL01",
         "Bottom",
         "Dry",
         "4.19",
         "29886.1",
         "7.792",
         "70.1",
         "4.9",
         "16.97",
         "27751.2",
         "95.33",
         "29.028",
         "18.55722",
         "-91.2499",
         "3698",
         "3685",
         null
        ],
        [
         "2",
         "CDL02S",
         "5/3/2020",
         "Candelaria",
         "River",
         "CDL02",
         "Surface",
         "Dry",
         "0.92",
         "16691.1",
         "0.453",
         "95.9",
         "6.99",
         "8.94",
         "15429.1",
         "5.5",
         "29.283",
         "18.61007",
         "-91.2441",
         "3724",
         "3708",
         "3708.0"
        ],
        [
         "3",
         "CDL02F",
         "5/3/2020",
         "Candelaria",
         "River",
         "CDL02",
         "Bottom",
         "Dry",
         "2.23",
         "24847.4",
         "1.261",
         "91.5",
         "6.52",
         "13.87",
         "23074.0",
         "13.44",
         "29.024",
         "18.61005",
         "-91.24403",
         "3667",
         "3992",
         "3992.0"
        ],
        [
         "4",
         "CDL03S",
         "5/3/2020",
         "Candelaria",
         "River",
         "CDL03",
         "Surface",
         "Dry",
         "0.58",
         "46341.6",
         "0.465",
         "93.4",
         "6.24",
         "28.06",
         "43670.8",
         "3.6",
         "28.202",
         "18.63166",
         "-91.29359",
         "2928",
         "3023",
         "3023.0"
        ]
       ],
       "shape": {
        "columns": 21,
        "rows": 5
       }
      },
      "text/html": [
       "<div>\n",
       "<style scoped>\n",
       "    .dataframe tbody tr th:only-of-type {\n",
       "        vertical-align: middle;\n",
       "    }\n",
       "\n",
       "    .dataframe tbody tr th {\n",
       "        vertical-align: top;\n",
       "    }\n",
       "\n",
       "    .dataframe thead th {\n",
       "        text-align: right;\n",
       "    }\n",
       "</style>\n",
       "<table border=\"1\" class=\"dataframe\">\n",
       "  <thead>\n",
       "    <tr style=\"text-align: right;\">\n",
       "      <th></th>\n",
       "      <th>sample</th>\n",
       "      <th>date</th>\n",
       "      <th>estuary</th>\n",
       "      <th>area</th>\n",
       "      <th>station</th>\n",
       "      <th>layer_depth</th>\n",
       "      <th>season</th>\n",
       "      <th>chlorophy_microg_l</th>\n",
       "      <th>cond_microsiemens_cm</th>\n",
       "      <th>depth_m</th>\n",
       "      <th>...</th>\n",
       "      <th>do_mg_l</th>\n",
       "      <th>sal_psu</th>\n",
       "      <th>sp_cond_microsiemens_cm</th>\n",
       "      <th>turbidity_fnu</th>\n",
       "      <th>temp_c</th>\n",
       "      <th>latitude</th>\n",
       "      <th>longitude</th>\n",
       "      <th>dic_micromol_kg</th>\n",
       "      <th>ta_micromol_kg</th>\n",
       "      <th>dummy_data</th>\n",
       "    </tr>\n",
       "  </thead>\n",
       "  <tbody>\n",
       "    <tr>\n",
       "      <th>0</th>\n",
       "      <td>CDL01S</td>\n",
       "      <td>5/3/2020</td>\n",
       "      <td>Candelaria</td>\n",
       "      <td>River</td>\n",
       "      <td>CDL01</td>\n",
       "      <td>Surface</td>\n",
       "      <td>Dry</td>\n",
       "      <td>0.36</td>\n",
       "      <td>7015.4</td>\n",
       "      <td>0.464</td>\n",
       "      <td>...</td>\n",
       "      <td>7.12</td>\n",
       "      <td>3.56</td>\n",
       "      <td>6547.7</td>\n",
       "      <td>1.47</td>\n",
       "      <td>28.740</td>\n",
       "      <td>18.55736</td>\n",
       "      <td>-91.25012</td>\n",
       "      <td>3915</td>\n",
       "      <td>3863</td>\n",
       "      <td>3685.0</td>\n",
       "    </tr>\n",
       "    <tr>\n",
       "      <th>1</th>\n",
       "      <td>CDL01F</td>\n",
       "      <td>5/3/2020</td>\n",
       "      <td>Candelaria</td>\n",
       "      <td>River</td>\n",
       "      <td>CDL01</td>\n",
       "      <td>Bottom</td>\n",
       "      <td>Dry</td>\n",
       "      <td>4.19</td>\n",
       "      <td>29886.1</td>\n",
       "      <td>7.792</td>\n",
       "      <td>...</td>\n",
       "      <td>4.90</td>\n",
       "      <td>16.97</td>\n",
       "      <td>27751.2</td>\n",
       "      <td>95.33</td>\n",
       "      <td>29.028</td>\n",
       "      <td>18.55722</td>\n",
       "      <td>-91.24990</td>\n",
       "      <td>3698</td>\n",
       "      <td>3685</td>\n",
       "      <td>NaN</td>\n",
       "    </tr>\n",
       "    <tr>\n",
       "      <th>2</th>\n",
       "      <td>CDL02S</td>\n",
       "      <td>5/3/2020</td>\n",
       "      <td>Candelaria</td>\n",
       "      <td>River</td>\n",
       "      <td>CDL02</td>\n",
       "      <td>Surface</td>\n",
       "      <td>Dry</td>\n",
       "      <td>0.92</td>\n",
       "      <td>16691.1</td>\n",
       "      <td>0.453</td>\n",
       "      <td>...</td>\n",
       "      <td>6.99</td>\n",
       "      <td>8.94</td>\n",
       "      <td>15429.1</td>\n",
       "      <td>5.50</td>\n",
       "      <td>29.283</td>\n",
       "      <td>18.61007</td>\n",
       "      <td>-91.24410</td>\n",
       "      <td>3724</td>\n",
       "      <td>3708</td>\n",
       "      <td>3708.0</td>\n",
       "    </tr>\n",
       "    <tr>\n",
       "      <th>3</th>\n",
       "      <td>CDL02F</td>\n",
       "      <td>5/3/2020</td>\n",
       "      <td>Candelaria</td>\n",
       "      <td>River</td>\n",
       "      <td>CDL02</td>\n",
       "      <td>Bottom</td>\n",
       "      <td>Dry</td>\n",
       "      <td>2.23</td>\n",
       "      <td>24847.4</td>\n",
       "      <td>1.261</td>\n",
       "      <td>...</td>\n",
       "      <td>6.52</td>\n",
       "      <td>13.87</td>\n",
       "      <td>23074.0</td>\n",
       "      <td>13.44</td>\n",
       "      <td>29.024</td>\n",
       "      <td>18.61005</td>\n",
       "      <td>-91.24403</td>\n",
       "      <td>3667</td>\n",
       "      <td>3992</td>\n",
       "      <td>3992.0</td>\n",
       "    </tr>\n",
       "    <tr>\n",
       "      <th>4</th>\n",
       "      <td>CDL03S</td>\n",
       "      <td>5/3/2020</td>\n",
       "      <td>Candelaria</td>\n",
       "      <td>River</td>\n",
       "      <td>CDL03</td>\n",
       "      <td>Surface</td>\n",
       "      <td>Dry</td>\n",
       "      <td>0.58</td>\n",
       "      <td>46341.6</td>\n",
       "      <td>0.465</td>\n",
       "      <td>...</td>\n",
       "      <td>6.24</td>\n",
       "      <td>28.06</td>\n",
       "      <td>43670.8</td>\n",
       "      <td>3.60</td>\n",
       "      <td>28.202</td>\n",
       "      <td>18.63166</td>\n",
       "      <td>-91.29359</td>\n",
       "      <td>2928</td>\n",
       "      <td>3023</td>\n",
       "      <td>3023.0</td>\n",
       "    </tr>\n",
       "  </tbody>\n",
       "</table>\n",
       "<p>5 rows × 21 columns</p>\n",
       "</div>"
      ],
      "text/plain": [
       "   sample      date     estuary   area station layer_depth season  \\\n",
       "0  CDL01S  5/3/2020  Candelaria  River   CDL01     Surface    Dry   \n",
       "1  CDL01F  5/3/2020  Candelaria  River   CDL01      Bottom    Dry   \n",
       "2  CDL02S  5/3/2020  Candelaria  River   CDL02     Surface    Dry   \n",
       "3  CDL02F  5/3/2020  Candelaria  River   CDL02      Bottom    Dry   \n",
       "4  CDL03S  5/3/2020  Candelaria  River   CDL03     Surface    Dry   \n",
       "\n",
       "   chlorophy_microg_l  cond_microsiemens_cm  depth_m  ...  do_mg_l  sal_psu  \\\n",
       "0                0.36                7015.4    0.464  ...     7.12     3.56   \n",
       "1                4.19               29886.1    7.792  ...     4.90    16.97   \n",
       "2                0.92               16691.1    0.453  ...     6.99     8.94   \n",
       "3                2.23               24847.4    1.261  ...     6.52    13.87   \n",
       "4                0.58               46341.6    0.465  ...     6.24    28.06   \n",
       "\n",
       "   sp_cond_microsiemens_cm  turbidity_fnu  temp_c  latitude  longitude  \\\n",
       "0                   6547.7           1.47  28.740  18.55736  -91.25012   \n",
       "1                  27751.2          95.33  29.028  18.55722  -91.24990   \n",
       "2                  15429.1           5.50  29.283  18.61007  -91.24410   \n",
       "3                  23074.0          13.44  29.024  18.61005  -91.24403   \n",
       "4                  43670.8           3.60  28.202  18.63166  -91.29359   \n",
       "\n",
       "   dic_micromol_kg  ta_micromol_kg  dummy_data  \n",
       "0             3915            3863      3685.0  \n",
       "1             3698            3685         NaN  \n",
       "2             3724            3708      3708.0  \n",
       "3             3667            3992      3992.0  \n",
       "4             2928            3023      3023.0  \n",
       "\n",
       "[5 rows x 21 columns]"
      ]
     },
     "execution_count": 3,
     "metadata": {},
     "output_type": "execute_result"
    }
   ],
   "source": [
    "CO2Data.head()"
   ]
  },
  {
   "cell_type": "code",
   "execution_count": 5,
   "id": "d244e59e",
   "metadata": {},
   "outputs": [
    {
     "name": "stdout",
     "output_type": "stream",
     "text": [
      "The data of dic_micromol_kg is 106 rows long. Use the Shapiro-Wilk test.\n",
      "The data of sal_psu is 106 rows long. Use the Shapiro-Wilk test.\n"
     ]
    }
   ],
   "source": [
    "def evaluation_data(data):\n",
    "    if len(data)< 2000:\n",
    "        print(\"The data of \" + data.name +\" is \" + str(len(data)) +\" rows long. Use the Shapiro-Wilk test.\")\n",
    "    else:\n",
    "        print(\"The data of \" + data.name +\" is \" + str(len(data)) + \" rows long. Use the Kolmogorov-Smirnov test.\")\n",
    "        return None\n",
    "evaluation_data(CO2Data['dic_micromol_kg'])\n",
    "evaluation_data(CO2Data['sal_psu'])"
   ]
  },
  {
   "cell_type": "code",
   "execution_count": 6,
   "id": "ed900f6e",
   "metadata": {},
   "outputs": [
    {
     "name": "stdout",
     "output_type": "stream",
     "text": [
      "Statistic= 0.85997, p-value= 0.00000\n",
      "The data of dic_micromol_kg is not normally distributed (reject H₀). Apply a non-parametric test.\n",
      "Statistic= 0.88666, p-value= 0.00000\n",
      "The data of sal_psu is not normally distributed (reject H₀). Apply a non-parametric test.\n"
     ]
    }
   ],
   "source": [
    "def Shapiro_Wilk_test(data):\n",
    "    from scipy.stats import shapiro \n",
    "    stat, p = shapiro(data)\n",
    "    print(f'Statistic= {stat:.5f}, p-value= {p:.5f}')\n",
    "    if p < 0.05:\n",
    "     print(\"The data of \" + data.name +\" is not normally distributed (reject H₀). Apply a non-parametric test.\")\n",
    "\n",
    "    else:\n",
    "       print(\"The data of\" + data.name +\" is normally distributed (fail to reject H₀).\")\n",
    "    return None\n",
    "\n",
    "Shapiro_Wilk_test(CO2Data['dic_micromol_kg'])\n",
    "Shapiro_Wilk_test(CO2Data['sal_psu'])"
   ]
  }
 ],
 "metadata": {
  "kernelspec": {
   "display_name": "base",
   "language": "python",
   "name": "python3"
  },
  "language_info": {
   "codemirror_mode": {
    "name": "ipython",
    "version": 3
   },
   "file_extension": ".py",
   "mimetype": "text/x-python",
   "name": "python",
   "nbconvert_exporter": "python",
   "pygments_lexer": "ipython3",
   "version": "3.13.5"
  }
 },
 "nbformat": 4,
 "nbformat_minor": 5
}
