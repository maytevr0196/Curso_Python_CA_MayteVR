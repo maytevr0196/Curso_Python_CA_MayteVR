{
 "cells": [
  {
   "cell_type": "markdown",
   "id": "2d81fdd6",
   "metadata": {},
   "source": [
    "# *Homework no.9*\n",
    "## **Exercise:**\n",
    " -Perform linear regressions of salinity vs temperature and dec vs salinity"
   ]
  },
  {
   "cell_type": "code",
   "execution_count": 2,
   "id": "1e4b30ba",
   "metadata": {},
   "outputs": [],
   "source": [
    "def import_csv(file):\n",
    "    import pandas as pd\n",
    "    return pd.read_csv(file)\n",
    "path = \"../Curso_Python_Mayte/data/Terminos_lagoon_TA_DIC_2023_RawData.csv\"\n",
    "CO2Data = import_csv(path)"
   ]
  },
  {
   "cell_type": "code",
   "execution_count": 3,
   "id": "a9250fd6",
   "metadata": {},
   "outputs": [
    {
     "data": {
      "application/vnd.microsoft.datawrangler.viewer.v0+json": {
       "columns": [
        {
         "name": "index",
         "rawType": "int64",
         "type": "integer"
        },
        {
         "name": "sample",
         "rawType": "object",
         "type": "string"
        },
        {
         "name": "date",
         "rawType": "object",
         "type": "string"
        },
        {
         "name": "estuary",
         "rawType": "object",
         "type": "string"
        },
        {
         "name": "area",
         "rawType": "object",
         "type": "string"
        },
        {
         "name": "station",
         "rawType": "object",
         "type": "string"
        },
        {
         "name": "layer_depth",
         "rawType": "object",
         "type": "string"
        },
        {
         "name": "season",
         "rawType": "object",
         "type": "string"
        },
        {
         "name": "chlorophy_microg_l",
         "rawType": "float64",
         "type": "float"
        },
        {
         "name": "cond_microsiemens_cm",
         "rawType": "float64",
         "type": "float"
        },
        {
         "name": "depth_m",
         "rawType": "float64",
         "type": "float"
        },
        {
         "name": "do_percent_sat",
         "rawType": "float64",
         "type": "float"
        },
        {
         "name": "do_mg_l",
         "rawType": "float64",
         "type": "float"
        },
        {
         "name": "sal_psu",
         "rawType": "float64",
         "type": "float"
        },
        {
         "name": "sp_cond_microsiemens_cm",
         "rawType": "float64",
         "type": "float"
        },
        {
         "name": "turbidity_fnu",
         "rawType": "float64",
         "type": "float"
        },
        {
         "name": "temp_c",
         "rawType": "float64",
         "type": "float"
        },
        {
         "name": "latitude",
         "rawType": "float64",
         "type": "float"
        },
        {
         "name": "longitude",
         "rawType": "float64",
         "type": "float"
        },
        {
         "name": "dic_micromol_kg",
         "rawType": "int64",
         "type": "integer"
        },
        {
         "name": "ta_micromol_kg",
         "rawType": "int64",
         "type": "integer"
        },
        {
         "name": "dummy_data",
         "rawType": "float64",
         "type": "float"
        }
       ],
       "ref": "127c35fe-d2c3-44c7-a96b-a4592e6e23d8",
       "rows": [
        [
         "0",
         "CDL01S",
         "5/3/2020",
         "Candelaria",
         "River",
         "CDL01",
         "Surface",
         "Dry",
         "0.36",
         "7015.4",
         "0.464",
         "93.9",
         "7.12",
         "3.56",
         "6547.7",
         "1.47",
         "28.74",
         "18.55736",
         "-91.25012",
         "3915",
         "3863",
         "3685.0"
        ],
        [
         "1",
         "CDL01F",
         "5/3/2020",
         "Candelaria",
         "River",
         "CDL01",
         "Bottom",
         "Dry",
         "4.19",
         "29886.1",
         "7.792",
         "70.1",
         "4.9",
         "16.97",
         "27751.2",
         "95.33",
         "29.028",
         "18.55722",
         "-91.2499",
         "3698",
         "3685",
         null
        ],
        [
         "2",
         "CDL02S",
         "5/3/2020",
         "Candelaria",
         "River",
         "CDL02",
         "Surface",
         "Dry",
         "0.92",
         "16691.1",
         "0.453",
         "95.9",
         "6.99",
         "8.94",
         "15429.1",
         "5.5",
         "29.283",
         "18.61007",
         "-91.2441",
         "3724",
         "3708",
         "3708.0"
        ],
        [
         "3",
         "CDL02F",
         "5/3/2020",
         "Candelaria",
         "River",
         "CDL02",
         "Bottom",
         "Dry",
         "2.23",
         "24847.4",
         "1.261",
         "91.5",
         "6.52",
         "13.87",
         "23074.0",
         "13.44",
         "29.024",
         "18.61005",
         "-91.24403",
         "3667",
         "3992",
         "3992.0"
        ],
        [
         "4",
         "CDL03S",
         "5/3/2020",
         "Candelaria",
         "River",
         "CDL03",
         "Surface",
         "Dry",
         "0.58",
         "46341.6",
         "0.465",
         "93.4",
         "6.24",
         "28.06",
         "43670.8",
         "3.6",
         "28.202",
         "18.63166",
         "-91.29359",
         "2928",
         "3023",
         "3023.0"
        ]
       ],
       "shape": {
        "columns": 21,
        "rows": 5
       }
      },
      "text/html": [
       "<div>\n",
       "<style scoped>\n",
       "    .dataframe tbody tr th:only-of-type {\n",
       "        vertical-align: middle;\n",
       "    }\n",
       "\n",
       "    .dataframe tbody tr th {\n",
       "        vertical-align: top;\n",
       "    }\n",
       "\n",
       "    .dataframe thead th {\n",
       "        text-align: right;\n",
       "    }\n",
       "</style>\n",
       "<table border=\"1\" class=\"dataframe\">\n",
       "  <thead>\n",
       "    <tr style=\"text-align: right;\">\n",
       "      <th></th>\n",
       "      <th>sample</th>\n",
       "      <th>date</th>\n",
       "      <th>estuary</th>\n",
       "      <th>area</th>\n",
       "      <th>station</th>\n",
       "      <th>layer_depth</th>\n",
       "      <th>season</th>\n",
       "      <th>chlorophy_microg_l</th>\n",
       "      <th>cond_microsiemens_cm</th>\n",
       "      <th>depth_m</th>\n",
       "      <th>...</th>\n",
       "      <th>do_mg_l</th>\n",
       "      <th>sal_psu</th>\n",
       "      <th>sp_cond_microsiemens_cm</th>\n",
       "      <th>turbidity_fnu</th>\n",
       "      <th>temp_c</th>\n",
       "      <th>latitude</th>\n",
       "      <th>longitude</th>\n",
       "      <th>dic_micromol_kg</th>\n",
       "      <th>ta_micromol_kg</th>\n",
       "      <th>dummy_data</th>\n",
       "    </tr>\n",
       "  </thead>\n",
       "  <tbody>\n",
       "    <tr>\n",
       "      <th>0</th>\n",
       "      <td>CDL01S</td>\n",
       "      <td>5/3/2020</td>\n",
       "      <td>Candelaria</td>\n",
       "      <td>River</td>\n",
       "      <td>CDL01</td>\n",
       "      <td>Surface</td>\n",
       "      <td>Dry</td>\n",
       "      <td>0.36</td>\n",
       "      <td>7015.4</td>\n",
       "      <td>0.464</td>\n",
       "      <td>...</td>\n",
       "      <td>7.12</td>\n",
       "      <td>3.56</td>\n",
       "      <td>6547.7</td>\n",
       "      <td>1.47</td>\n",
       "      <td>28.740</td>\n",
       "      <td>18.55736</td>\n",
       "      <td>-91.25012</td>\n",
       "      <td>3915</td>\n",
       "      <td>3863</td>\n",
       "      <td>3685.0</td>\n",
       "    </tr>\n",
       "    <tr>\n",
       "      <th>1</th>\n",
       "      <td>CDL01F</td>\n",
       "      <td>5/3/2020</td>\n",
       "      <td>Candelaria</td>\n",
       "      <td>River</td>\n",
       "      <td>CDL01</td>\n",
       "      <td>Bottom</td>\n",
       "      <td>Dry</td>\n",
       "      <td>4.19</td>\n",
       "      <td>29886.1</td>\n",
       "      <td>7.792</td>\n",
       "      <td>...</td>\n",
       "      <td>4.90</td>\n",
       "      <td>16.97</td>\n",
       "      <td>27751.2</td>\n",
       "      <td>95.33</td>\n",
       "      <td>29.028</td>\n",
       "      <td>18.55722</td>\n",
       "      <td>-91.24990</td>\n",
       "      <td>3698</td>\n",
       "      <td>3685</td>\n",
       "      <td>NaN</td>\n",
       "    </tr>\n",
       "    <tr>\n",
       "      <th>2</th>\n",
       "      <td>CDL02S</td>\n",
       "      <td>5/3/2020</td>\n",
       "      <td>Candelaria</td>\n",
       "      <td>River</td>\n",
       "      <td>CDL02</td>\n",
       "      <td>Surface</td>\n",
       "      <td>Dry</td>\n",
       "      <td>0.92</td>\n",
       "      <td>16691.1</td>\n",
       "      <td>0.453</td>\n",
       "      <td>...</td>\n",
       "      <td>6.99</td>\n",
       "      <td>8.94</td>\n",
       "      <td>15429.1</td>\n",
       "      <td>5.50</td>\n",
       "      <td>29.283</td>\n",
       "      <td>18.61007</td>\n",
       "      <td>-91.24410</td>\n",
       "      <td>3724</td>\n",
       "      <td>3708</td>\n",
       "      <td>3708.0</td>\n",
       "    </tr>\n",
       "    <tr>\n",
       "      <th>3</th>\n",
       "      <td>CDL02F</td>\n",
       "      <td>5/3/2020</td>\n",
       "      <td>Candelaria</td>\n",
       "      <td>River</td>\n",
       "      <td>CDL02</td>\n",
       "      <td>Bottom</td>\n",
       "      <td>Dry</td>\n",
       "      <td>2.23</td>\n",
       "      <td>24847.4</td>\n",
       "      <td>1.261</td>\n",
       "      <td>...</td>\n",
       "      <td>6.52</td>\n",
       "      <td>13.87</td>\n",
       "      <td>23074.0</td>\n",
       "      <td>13.44</td>\n",
       "      <td>29.024</td>\n",
       "      <td>18.61005</td>\n",
       "      <td>-91.24403</td>\n",
       "      <td>3667</td>\n",
       "      <td>3992</td>\n",
       "      <td>3992.0</td>\n",
       "    </tr>\n",
       "    <tr>\n",
       "      <th>4</th>\n",
       "      <td>CDL03S</td>\n",
       "      <td>5/3/2020</td>\n",
       "      <td>Candelaria</td>\n",
       "      <td>River</td>\n",
       "      <td>CDL03</td>\n",
       "      <td>Surface</td>\n",
       "      <td>Dry</td>\n",
       "      <td>0.58</td>\n",
       "      <td>46341.6</td>\n",
       "      <td>0.465</td>\n",
       "      <td>...</td>\n",
       "      <td>6.24</td>\n",
       "      <td>28.06</td>\n",
       "      <td>43670.8</td>\n",
       "      <td>3.60</td>\n",
       "      <td>28.202</td>\n",
       "      <td>18.63166</td>\n",
       "      <td>-91.29359</td>\n",
       "      <td>2928</td>\n",
       "      <td>3023</td>\n",
       "      <td>3023.0</td>\n",
       "    </tr>\n",
       "  </tbody>\n",
       "</table>\n",
       "<p>5 rows × 21 columns</p>\n",
       "</div>"
      ],
      "text/plain": [
       "   sample      date     estuary   area station layer_depth season  \\\n",
       "0  CDL01S  5/3/2020  Candelaria  River   CDL01     Surface    Dry   \n",
       "1  CDL01F  5/3/2020  Candelaria  River   CDL01      Bottom    Dry   \n",
       "2  CDL02S  5/3/2020  Candelaria  River   CDL02     Surface    Dry   \n",
       "3  CDL02F  5/3/2020  Candelaria  River   CDL02      Bottom    Dry   \n",
       "4  CDL03S  5/3/2020  Candelaria  River   CDL03     Surface    Dry   \n",
       "\n",
       "   chlorophy_microg_l  cond_microsiemens_cm  depth_m  ...  do_mg_l  sal_psu  \\\n",
       "0                0.36                7015.4    0.464  ...     7.12     3.56   \n",
       "1                4.19               29886.1    7.792  ...     4.90    16.97   \n",
       "2                0.92               16691.1    0.453  ...     6.99     8.94   \n",
       "3                2.23               24847.4    1.261  ...     6.52    13.87   \n",
       "4                0.58               46341.6    0.465  ...     6.24    28.06   \n",
       "\n",
       "   sp_cond_microsiemens_cm  turbidity_fnu  temp_c  latitude  longitude  \\\n",
       "0                   6547.7           1.47  28.740  18.55736  -91.25012   \n",
       "1                  27751.2          95.33  29.028  18.55722  -91.24990   \n",
       "2                  15429.1           5.50  29.283  18.61007  -91.24410   \n",
       "3                  23074.0          13.44  29.024  18.61005  -91.24403   \n",
       "4                  43670.8           3.60  28.202  18.63166  -91.29359   \n",
       "\n",
       "   dic_micromol_kg  ta_micromol_kg  dummy_data  \n",
       "0             3915            3863      3685.0  \n",
       "1             3698            3685         NaN  \n",
       "2             3724            3708      3708.0  \n",
       "3             3667            3992      3992.0  \n",
       "4             2928            3023      3023.0  \n",
       "\n",
       "[5 rows x 21 columns]"
      ]
     },
     "execution_count": 3,
     "metadata": {},
     "output_type": "execute_result"
    }
   ],
   "source": [
    "CO2Data.head()"
   ]
  },
  {
   "cell_type": "markdown",
   "id": "87645d63",
   "metadata": {},
   "source": [
    "#### Salinity vs Temperature"
   ]
  },
  {
   "cell_type": "code",
   "execution_count": 4,
   "id": "1826467c",
   "metadata": {},
   "outputs": [
    {
     "data": {
      "image/png": "[encoded data removed]",
      "text/plain": [
       "<Figure size 600x400 with 1 Axes>"
      ]
     },
     "metadata": {},
     "output_type": "display_data"
    },
    {
     "name": "stdout",
     "output_type": "stream",
     "text": [
      "Slope: -6.237079764689512\n"
     ]
    }
   ],
   "source": [
    "import matplotlib.pyplot as plt\n",
    "from scipy import stats\n",
    "\n",
    "x = CO2Data['temp_c']\n",
    "y = CO2Data['sal_psu']\n",
    "\n",
    "plt.scatter(x, y, label='original data')\n",
    "\n",
    "# Add labels and title\n",
    "plt.xlabel('Temperature (°C)', fontsize = 12, )\n",
    "plt.ylabel('Salinity (PSU)', fontsize = 12)\n",
    "\n",
    "# Calculate the linear regression line\n",
    "slope, intercept, r_value, p_value, std_err = stats.linregress(x, y)\n",
    "\n",
    "# Plot linear regression \n",
    "\n",
    "plt.plot(x, intercept + slope*x, 'r', label='fitted line')\n",
    "\n",
    "# set the figure size\n",
    "plt.gcf().set_size_inches(6, 4)\n",
    "\n",
    "# save the plot as a PDF file paper format \n",
    "import os\n",
    "output_dir = '../output_files'\n",
    "os.makedirs(output_dir, exist_ok=True)\n",
    "plt.savefig(os.path.join(output_dir, 'Sal_T_pH.pdf'), dpi=300, bbox_inches='tight')\n",
    "\n",
    "\n",
    "plt.show()\n",
    "\n",
    "print('Slope:', slope)"
   ]
  },
  {
   "cell_type": "code",
   "execution_count": 5,
   "id": "74304fcc",
   "metadata": {},
   "outputs": [
    {
     "name": "stdout",
     "output_type": "stream",
     "text": [
      "r-squared: 0.17749929096684752\n",
      "p_value: 6.879907520531154e-06\n",
      "slope: -6.237079764689512\n",
      "intercept: 184.22846870564854\n"
     ]
    }
   ],
   "source": [
    "print(\"r-squared:\", r_value**2)\n",
    "print(\"p_value:\", p_value)\n",
    "print(\"slope:\", slope)\n",
    "print(\"intercept:\", intercept)"
   ]
  },
  {
   "cell_type": "code",
   "execution_count": 6,
   "id": "86dba5aa",
   "metadata": {},
   "outputs": [
    {
     "name": "stdout",
     "output_type": "stream",
     "text": [
      "                            OLS Regression Results                            \n",
      "==============================================================================\n",
      "Dep. Variable:                sal_psu   R-squared:                       0.177\n",
      "Model:                            OLS   Adj. R-squared:                  0.170\n",
      "Method:                 Least Squares   F-statistic:                     22.44\n",
      "Date:              mar., 09 sep. 2025   Prob (F-statistic):           6.88e-06\n",
      "Time:                        00:59:44   Log-Likelihood:                -416.05\n",
      "No. Observations:                 106   AIC:                             836.1\n",
      "Df Residuals:                     104   BIC:                             841.4\n",
      "Df Model:                           1                                         \n",
      "Covariance Type:            nonrobust                                         \n",
      "==============================================================================\n",
      "                 coef    std err          t      P>|t|      [0.025      0.975]\n",
      "------------------------------------------------------------------------------\n",
      "const        184.2285     35.249      5.226      0.000     114.327     254.130\n",
      "temp_c        -6.2371      1.317     -4.737      0.000      -8.848      -3.626\n",
      "==============================================================================\n",
      "Omnibus:                       21.418   Durbin-Watson:                   0.575\n",
      "Prob(Omnibus):                  0.000   Jarque-Bera (JB):                6.500\n",
      "Skew:                          -0.292   Prob(JB):                       0.0388\n",
      "Kurtosis:                       1.937   Cond. No.                         786.\n",
      "==============================================================================\n",
      "\n",
      "Notes:\n",
      "[1] Standard Errors assume that the covariance matrix of the errors is correctly specified.\n"
     ]
    }
   ],
   "source": [
    "import statsmodels.api as sm\n",
    "import numpy as np\n",
    "\n",
    "# Define the independent and dependent variables\n",
    "x = CO2Data['temp_c']\n",
    "y = CO2Data['sal_psu']\n",
    "\n",
    "# Add a constant to include the intercept in the model\n",
    "# This step is necessary; otherwise, the regression will be forced through the origin (intercept = 0)\n",
    "x = sm.add_constant(x)\n",
    "\n",
    "# Fit the Ordinary Least Squares (OLS) linear regression model\n",
    "model = sm.OLS(y, x).fit()\n",
    "\n",
    "# Display the model summary\n",
    "print(model.summary())"
   ]
  },
  {
   "cell_type": "code",
   "execution_count": 7,
   "id": "f3c82d72",
   "metadata": {},
   "outputs": [
    {
     "name": "stdout",
     "output_type": "stream",
     "text": [
      "\n",
      "=== MODEL INTERPRETATION ===\n",
      "\n",
      "R² = 0.177\n",
      "❌ Weak model fit: Explains little variance. Review your model.\n",
      "\n",
      "Coefficients:\n",
      "- const: Coef = 184.2285, p = 0.0000 → ✔️ Significant (p < 0.05)\n",
      "- temp_c: Coef = -6.2371, p = 0.0000 → ✔️ Significant (p < 0.05)\n",
      "\n",
      "Slope (temp_c): -6.2371, p = 0.0000 → ✔️ Significant\n",
      "\n",
      "Standard Error of the model: 12.3741\n"
     ]
    }
   ],
   "source": [
    "print(\"\\n=== MODEL INTERPRETATION ===\\n\")\n",
    "\n",
    "# R-squared and fit quality\n",
    "r2 = model.rsquared\n",
    "fit_quality = (\n",
    "    \"✔️ Good model fit: Explains most of the variance.\" if r2 >= 0.7 else\n",
    "    \"⚠️ Moderate model fit: Explains part of the variance.\" if r2 >= 0.4 else\n",
    "    \"❌ Weak model fit: Explains little variance. Review your model.\"\n",
    ")\n",
    "print(f\"R² = {r2:.3f}\\n{fit_quality}\")\n",
    "\n",
    "# Coefficients and p-values\n",
    "results = model.summary2().tables[1]\n",
    "slope_var = results.index.drop('const')[0]  # Assuming one predictor\n",
    "\n",
    "print(\"\\nCoefficients:\")\n",
    "for var, row in results.iterrows():\n",
    "    coef, pval = row['Coef.'], row['P>|t|']\n",
    "    significance = \"✔️ Significant (p < 0.05)\" if pval < 0.05 else \"⚠️ Not significant (p ≥ 0.05)\"\n",
    "    print(f\"- {var}: Coef = {coef:.4f}, p = {pval:.4f} → {significance}\")\n",
    "\n",
    "# Slope interpretation\n",
    "slope_coef, slope_pval = results.loc[slope_var, ['Coef.', 'P>|t|']]\n",
    "print(f\"\\nSlope ({slope_var}): {slope_coef:.4f}, p = {slope_pval:.4f} → \"\n",
    "      f\"{'✔️ Significant' if slope_pval < 0.05 else '⚠️ Not significant'}\")\n",
    "\n",
    "# Standard Error\n",
    "print(f\"\\nStandard Error of the model: {np.sqrt(model.scale):.4f}\")"
   ]
  },
  {
   "cell_type": "markdown",
   "id": "24174c29",
   "metadata": {},
   "source": [
    "#### DIC vs Salinity"
   ]
  },
  {
   "cell_type": "code",
   "execution_count": 8,
   "id": "f9c22789",
   "metadata": {},
   "outputs": [
    {
     "data": {
      "image/png": "[encoded data removed]",
      "text/plain": [
       "<Figure size 600x400 with 1 Axes>"
      ]
     },
     "metadata": {},
     "output_type": "display_data"
    },
    {
     "name": "stdout",
     "output_type": "stream",
     "text": [
      "Slope: -21.053197646779633\n"
     ]
    }
   ],
   "source": [
    "import matplotlib.pyplot as plt\n",
    "from scipy import stats\n",
    "\n",
    "x = CO2Data['sal_psu']\n",
    "y = CO2Data['dic_micromol_kg']\n",
    "\n",
    "plt.scatter(x, y, label='original data')\n",
    "\n",
    "# Add labels and title\n",
    "plt.xlabel('Salinity (PSU)', fontsize = 12, )\n",
    "plt.ylabel('DIC ($\\mu mol  \\; kg^{-1}$)', fontsize = 12)\n",
    "\n",
    "# Calculate the linear regression line\n",
    "slope, intercept, r_value, p_value, std_err = stats.linregress(x, y)\n",
    "\n",
    "# Plot linear regression \n",
    "\n",
    "plt.plot(x, intercept + slope*x, 'r', label='fitted line')\n",
    "\n",
    "# set the figure size\n",
    "plt.gcf().set_size_inches(6, 4)\n",
    "\n",
    "# save the plot as a PDF file paper format \n",
    "import os\n",
    "output_dir = '../output_files'\n",
    "os.makedirs(output_dir, exist_ok=True)\n",
    "plt.savefig(os.path.join(output_dir, 'DIC_sal_pH.pdf'), dpi=300, bbox_inches='tight')\n",
    "\n",
    "\n",
    "plt.show()\n",
    "\n",
    "print('Slope:', slope)"
   ]
  },
  {
   "cell_type": "code",
   "execution_count": 9,
   "id": "46da084e",
   "metadata": {},
   "outputs": [
    {
     "name": "stdout",
     "output_type": "stream",
     "text": [
      "r-squared: 0.32710473310227767\n",
      "p_value: 1.51441040237653e-10\n",
      "slope: -21.053197646779633\n",
      "intercept: 3162.874756459312\n"
     ]
    }
   ],
   "source": [
    "print(\"r-squared:\", r_value**2)\n",
    "print(\"p_value:\", p_value)\n",
    "print(\"slope:\", slope)\n",
    "print(\"intercept:\", intercept)"
   ]
  },
  {
   "cell_type": "code",
   "execution_count": 10,
   "id": "5fcebab3",
   "metadata": {},
   "outputs": [
    {
     "name": "stdout",
     "output_type": "stream",
     "text": [
      "                            OLS Regression Results                            \n",
      "==============================================================================\n",
      "Dep. Variable:        dic_micromol_kg   R-squared:                       0.327\n",
      "Model:                            OLS   Adj. R-squared:                  0.321\n",
      "Method:                 Least Squares   F-statistic:                     50.56\n",
      "Date:              mar., 09 sep. 2025   Prob (F-statistic):           1.51e-10\n",
      "Time:                        00:59:57   Log-Likelihood:                -787.63\n",
      "No. Observations:                 106   AIC:                             1579.\n",
      "Df Residuals:                     104   BIC:                             1585.\n",
      "Df Model:                           1                                         \n",
      "Covariance Type:            nonrobust                                         \n",
      "==============================================================================\n",
      "                 coef    std err          t      P>|t|      [0.025      0.975]\n",
      "------------------------------------------------------------------------------\n",
      "const       3162.8748     65.077     48.602      0.000    3033.825    3291.925\n",
      "sal_psu      -21.0532      2.961     -7.110      0.000     -26.925     -15.182\n",
      "==============================================================================\n",
      "Omnibus:                       10.933   Durbin-Watson:                   0.347\n",
      "Prob(Omnibus):                  0.004   Jarque-Bera (JB):               11.485\n",
      "Skew:                           0.670   Prob(JB):                      0.00321\n",
      "Kurtosis:                       3.897   Cond. No.                         35.8\n",
      "==============================================================================\n",
      "\n",
      "Notes:\n",
      "[1] Standard Errors assume that the covariance matrix of the errors is correctly specified.\n"
     ]
    }
   ],
   "source": [
    "import statsmodels.api as sm\n",
    "import numpy as np\n",
    "\n",
    "# Define the independent and dependent variables\n",
    "x = CO2Data['sal_psu']\n",
    "y = CO2Data['dic_micromol_kg']\n",
    "\n",
    "# Add a constant to include the intercept in the model\n",
    "# This step is necessary; otherwise, the regression will be forced through the origin (intercept = 0)\n",
    "x = sm.add_constant(x)\n",
    "\n",
    "# Fit the Ordinary Least Squares (OLS) linear regression model\n",
    "model = sm.OLS(y, x).fit()\n",
    "\n",
    "# Display the model summary\n",
    "print(model.summary())"
   ]
  },
  {
   "cell_type": "code",
   "execution_count": 11,
   "id": "2c1f1a9f",
   "metadata": {},
   "outputs": [
    {
     "name": "stdout",
     "output_type": "stream",
     "text": [
      "\n",
      "=== MODEL INTERPRETATION ===\n",
      "\n",
      "R² = 0.327\n",
      "❌ Weak model fit: Explains little variance. Review your model.\n",
      "\n",
      "Coefficients:\n",
      "- const: Coef = 3162.8748, p = 0.0000 → ✔️ Significant (p < 0.05)\n",
      "- sal_psu: Coef = -21.0532, p = 0.0000 → ✔️ Significant (p < 0.05)\n",
      "\n",
      "Slope (sal_psu): -21.0532, p = 0.0000 → ✔️ Significant\n",
      "\n",
      "Standard Error of the model: 411.9965\n"
     ]
    }
   ],
   "source": [
    "print(\"\\n=== MODEL INTERPRETATION ===\\n\")\n",
    "\n",
    "# R-squared and fit quality\n",
    "r2 = model.rsquared\n",
    "fit_quality = (\n",
    "    \"✔️ Good model fit: Explains most of the variance.\" if r2 >= 0.7 else\n",
    "    \"⚠️ Moderate model fit: Explains part of the variance.\" if r2 >= 0.4 else\n",
    "    \"❌ Weak model fit: Explains little variance. Review your model.\"\n",
    ")\n",
    "print(f\"R² = {r2:.3f}\\n{fit_quality}\")\n",
    "\n",
    "# Coefficients and p-values\n",
    "results = model.summary2().tables[1]\n",
    "slope_var = results.index.drop('const')[0]  # Assuming one predictor\n",
    "\n",
    "print(\"\\nCoefficients:\")\n",
    "for var, row in results.iterrows():\n",
    "    coef, pval = row['Coef.'], row['P>|t|']\n",
    "    significance = \"✔️ Significant (p < 0.05)\" if pval < 0.05 else \"⚠️ Not significant (p ≥ 0.05)\"\n",
    "    print(f\"- {var}: Coef = {coef:.4f}, p = {pval:.4f} → {significance}\")\n",
    "\n",
    "# Slope interpretation\n",
    "slope_coef, slope_pval = results.loc[slope_var, ['Coef.', 'P>|t|']]\n",
    "print(f\"\\nSlope ({slope_var}): {slope_coef:.4f}, p = {slope_pval:.4f} → \"\n",
    "      f\"{'✔️ Significant' if slope_pval < 0.05 else '⚠️ Not significant'}\")\n",
    "\n",
    "# Standard Error\n",
    "print(f\"\\nStandard Error of the model: {np.sqrt(model.scale):.4f}\")"
   ]
  }
 ],
 "metadata": {
  "kernelspec": {
   "display_name": "base",
   "language": "python",
   "name": "python3"
  },
  "language_info": {
   "codemirror_mode": {
    "name": "ipython",
    "version": 3
   },
   "file_extension": ".py",
   "mimetype": "text/x-python",
   "name": "python",
   "nbconvert_exporter": "python",
   "pygments_lexer": "ipython3",
   "version": "3.13.5"
  }
 },
 "nbformat": 4,
 "nbformat_minor": 5
}
