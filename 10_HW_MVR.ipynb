{
 "cells": [
  {
   "cell_type": "markdown",
   "id": "07f1991c",
   "metadata": {},
   "source": [
    "# *Homework no.10*\n",
    "## **Exercise:**\n",
    " -Create a function to compute the Pearson correlation."
   ]
  },
  {
   "cell_type": "code",
   "execution_count": 2,
   "id": "81e8bd42",
   "metadata": {},
   "outputs": [],
   "source": [
    "def import_csv(file):\n",
    "    import pandas as pd\n",
    "    return pd.read_csv(file)\n",
    "path = \"../Curso_Python_Mayte/data/Terminos_lagoon_TA_DIC_2023_RawData.csv\"\n",
    "CO2Data = import_csv(path)"
   ]
  },
  {
   "cell_type": "code",
   "execution_count": 20,
   "id": "420f5ae7",
   "metadata": {},
   "outputs": [],
   "source": [
    "from scipy import stats\n",
    "\n",
    "def pearson_corr(x, y, alpha=0.05):\n",
    "    if len(x) != len(y):\n",
    "        raise ValueError(\"Las variables deben tener la misma longitud.\")\n",
    "    \n",
    "    r, pval = stats.pearsonr(x, y)\n",
    "\n",
    "    print(f\"Pearson correlation coefficient (r): {r:.4f}\")\n",
    "    print(f\"P-value: {pval:.4f}\")\n",
    "\n",
    "    if pval < alpha:\n",
    "        print(f\"✔️ Significant relationship (p < {alpha:.3f})\")\n",
    "    else:\n",
    "        print(f\"⚠️ No significant relationship (p ≥ {alpha:.3f})\")\n",
    "\n",
    "    if r > 0:\n",
    "        print(\"📈 Positive correlation\")\n",
    "    elif r == 0:\n",
    "        print(\"➖ No correlation\")\n",
    "    else: \n",
    "        print(\"📉 Negative correlation\")\n",
    "    return None\n"
   ]
  },
  {
   "cell_type": "code",
   "execution_count": null,
   "id": "aa027c1e",
   "metadata": {},
   "outputs": [
    {
     "name": "stdout",
     "output_type": "stream",
     "text": [
      "Pearson correlation coefficient (r): 0.1678\n",
      "P-value: 0.0855\n",
      "⚠️ No significant relationship (p ≥ 0.050)\n",
      "📈 Positive correlation\n"
     ]
    }
   ],
   "source": [
    "#example of use\n",
    "pearson_corr(CO2Data['temp_c'], CO2Data['dic_micromol_kg'])"
   ]
  }
 ],
 "metadata": {
  "kernelspec": {
   "display_name": "base",
   "language": "python",
   "name": "python3"
  },
  "language_info": {
   "codemirror_mode": {
    "name": "ipython",
    "version": 3
   },
   "file_extension": ".py",
   "mimetype": "text/x-python",
   "name": "python",
   "nbconvert_exporter": "python",
   "pygments_lexer": "ipython3",
   "version": "3.13.5"
  }
 },
 "nbformat": 4,
 "nbformat_minor": 5
}
