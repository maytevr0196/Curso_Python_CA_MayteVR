{
 "cells": [
  {
   "cell_type": "markdown",
   "id": "9e75b38c",
   "metadata": {},
   "source": [
    "# Tarea 2"
   ]
  },
  {
   "cell_type": "markdown",
   "id": "f893e18c",
   "metadata": {},
   "source": [
    "## Crear una función compuesta que evalue el valor absoluto de número"
   ]
  },
  {
   "cell_type": "code",
   "execution_count": 10,
   "id": "ed628c22",
   "metadata": {},
   "outputs": [],
   "source": [
    "def valor_absoluto(num):\n",
    "    if num >= 0:\n",
    "        return num\n",
    "    else:\n",
    "        return -num\n",
    "\n",
    "def evaluar_valor_absoluto(numero):\n",
    "    y = valor_absoluto(numero)\n",
    "    print(\"El valor absoluto de\", numero, \"es\", y)\n",
    "    return None"
   ]
  },
  {
   "cell_type": "code",
   "execution_count": 11,
   "id": "849037f1",
   "metadata": {},
   "outputs": [
    {
     "name": "stdout",
     "output_type": "stream",
     "text": [
      "El valor absoluto de -10 es 10\n"
     ]
    }
   ],
   "source": [
    "#Ejemplos de uso\n",
    "evaluar_valor_absoluto(-10)"
   ]
  },
  {
   "cell_type": "code",
   "execution_count": 13,
   "id": "a4489eb4",
   "metadata": {},
   "outputs": [
    {
     "name": "stdout",
     "output_type": "stream",
     "text": [
      "El valor absoluto de 8 es 8\n"
     ]
    }
   ],
   "source": [
    "evaluar_valor_absoluto (8)"
   ]
  },
  {
   "cell_type": "code",
   "execution_count": 14,
   "id": "e1ce225a",
   "metadata": {},
   "outputs": [
    {
     "name": "stdout",
     "output_type": "stream",
     "text": [
      "El valor absoluto de -5 es 5\n"
     ]
    }
   ],
   "source": [
    "evaluar_valor_absoluto(-5)"
   ]
  }
 ],
 "metadata": {
  "kernelspec": {
   "display_name": "base",
   "language": "python",
   "name": "python3"
  },
  "language_info": {
   "codemirror_mode": {
    "name": "ipython",
    "version": 3
   },
   "file_extension": ".py",
   "mimetype": "text/x-python",
   "name": "python",
   "nbconvert_exporter": "python",
   "pygments_lexer": "ipython3",
   "version": "3.13.5"
  }
 },
 "nbformat": 4,
 "nbformat_minor": 5
}
