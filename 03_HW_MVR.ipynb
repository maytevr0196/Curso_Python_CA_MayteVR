{
 "cells": [
  {
   "cell_type": "markdown",
   "metadata": {},
   "source": [
    "# *Homework no.3:*  \n",
    "## **Exercises**\n",
    "- Create a new column called \"TA_DIC_ratio\" that is the ratio of TA to DIC\n"
   ]
  },
  {
   "cell_type": "code",
   "execution_count": 3,
   "metadata": {},
   "outputs": [],
   "source": [
    "from tabulate import tabulate\n",
    "import pandas as pd\n",
    "def import_csv(file):\n",
    "    # Read the file into a DataFrame: df\n",
    "    import pandas as pd\n",
    "    return pd.read_csv(file)"
   ]
  },
  {
   "cell_type": "code",
   "execution_count": 4,
   "metadata": {},
   "outputs": [],
   "source": [
    "# Path to the file to be imported\n",
    "path = \"../Curso_Python_Mayte/data/Terminos_lagoon_TA_DIC_2023_RawData.csv\"\n",
    "\n",
    "# Import the file\n",
    "CO2Data = import_csv(path)"
   ]
  },
  {
   "cell_type": "code",
   "execution_count": 5,
   "metadata": {},
   "outputs": [],
   "source": [
    "CO2Data[\"TA_DIC_ratio\"] = (CO2Data[\"ta_micromol_kg\"] / CO2Data[\"dic_micromol_kg\"]).round(2)"
   ]
  },
  {
   "cell_type": "markdown",
   "metadata": {},
   "source": [
    "- Calculate the mean and standard deviation of the \"TA_DIC_ratio\" for each season\n",
    "- Calculate the mean and standard deviation of the \"TA_DIC_ratio\" for each season and area\n"
   ]
  },
  {
   "cell_type": "code",
   "execution_count": 6,
   "metadata": {},
   "outputs": [],
   "source": [
    "# Define the columns to be analyzed\n",
    "variables = ['TA_DIC_ratio']\n",
    "\n",
    "#  Calculate the mean and standard deviation of the \"TA_DIC_ratio\" for each season\n",
    "res_season = CO2Data.groupby(['season'])[variables].agg(['mean', 'std']).reset_index().round(2)\n",
    "\n",
    "# Assign appropriate column headers\n",
    "res_season.columns = ['season'] + [f\"{var}_{stat}\" for var in variables for stat in ['mean', 'std']]\n",
    "\n",
    "# Format output as 'mean ± standard deviation' with fixed-point notation (no scientific notation) and two decimal places.\n",
    "for var in variables:\n",
    "    mean_col = f\"{var}_mean\"\n",
    "    std_col = f\"{var}_std\"\n",
    "    res_season[f\"{var} (mean ± sd)\"] = res_season.apply(lambda row: f\"{row[mean_col]:,.2f} ± {row[std_col]:,.2f}\", axis=1)\n",
    "    \n",
    "# Select only the formatted columns together with the indices\n",
    "res_season_for = res_season[['season'] + [f\"{var} (mean ± sd)\" for var in variables]]  \n",
    "\n",
    "# Calculate the mean and standard deviation of the \"TA_DIC_ratio\" for each season and area\n",
    "\n",
    "res_area = CO2Data.groupby(['season', 'area'])[variables].agg(['mean', 'std']).reset_index().round(2)\n",
    "\n",
    "res_area.columns = ['season', 'area'] + [f\"{var}_{stat}\" for var in variables for stat in ['mean', 'std']]\n",
    "for var in variables:\n",
    "    mean_col = f\"{var}_mean\"\n",
    "    std_col = f\"{var}_std\"\n",
    "    res_area[f\"{var} (mean ± sd)\"] = res_area.apply(lambda row: f\"{row[mean_col]:,.2f} ± {row[std_col]:,.2f}\", axis=1)\n",
    "\n",
    "res_area_for = res_area[['season', 'area'] + [f\"{var} (mean ± sd)\" for var in variables]] "
   ]
  },
  {
   "cell_type": "code",
   "execution_count": 7,
   "metadata": {},
   "outputs": [
    {
     "data": {
      "application/vnd.microsoft.datawrangler.viewer.v0+json": {
       "columns": [
        {
         "name": "index",
         "rawType": "int64",
         "type": "integer"
        },
        {
         "name": "season",
         "rawType": "object",
         "type": "string"
        },
        {
         "name": "TA_DIC_ratio (mean ± sd)",
         "rawType": "object",
         "type": "string"
        }
       ],
       "ref": "62fff334-878e-4153-88d2-8bfcd38ff85f",
       "rows": [
        [
         "0",
         "Dry",
         "1.06 ± 0.09"
        ],
        [
         "1",
         "Rainy",
         "1.02 ± 0.10"
        ]
       ],
       "shape": {
        "columns": 2,
        "rows": 2
       }
      },
      "text/html": [
       "<div>\n",
       "<style scoped>\n",
       "    .dataframe tbody tr th:only-of-type {\n",
       "        vertical-align: middle;\n",
       "    }\n",
       "\n",
       "    .dataframe tbody tr th {\n",
       "        vertical-align: top;\n",
       "    }\n",
       "\n",
       "    .dataframe thead th {\n",
       "        text-align: right;\n",
       "    }\n",
       "</style>\n",
       "<table border=\"1\" class=\"dataframe\">\n",
       "  <thead>\n",
       "    <tr style=\"text-align: right;\">\n",
       "      <th></th>\n",
       "      <th>season</th>\n",
       "      <th>TA_DIC_ratio (mean ± sd)</th>\n",
       "    </tr>\n",
       "  </thead>\n",
       "  <tbody>\n",
       "    <tr>\n",
       "      <th>0</th>\n",
       "      <td>Dry</td>\n",
       "      <td>1.06 ± 0.09</td>\n",
       "    </tr>\n",
       "    <tr>\n",
       "      <th>1</th>\n",
       "      <td>Rainy</td>\n",
       "      <td>1.02 ± 0.10</td>\n",
       "    </tr>\n",
       "  </tbody>\n",
       "</table>\n",
       "</div>"
      ],
      "text/plain": [
       "  season TA_DIC_ratio (mean ± sd)\n",
       "0    Dry              1.06 ± 0.09\n",
       "1  Rainy              1.02 ± 0.10"
      ]
     },
     "execution_count": 7,
     "metadata": {},
     "output_type": "execute_result"
    }
   ],
   "source": [
    "res_season_for"
   ]
  },
  {
   "cell_type": "code",
   "execution_count": 8,
   "metadata": {},
   "outputs": [
    {
     "data": {
      "application/vnd.microsoft.datawrangler.viewer.v0+json": {
       "columns": [
        {
         "name": "index",
         "rawType": "int64",
         "type": "integer"
        },
        {
         "name": "season",
         "rawType": "object",
         "type": "string"
        },
        {
         "name": "area",
         "rawType": "object",
         "type": "string"
        },
        {
         "name": "TA_DIC_ratio (mean ± sd)",
         "rawType": "object",
         "type": "string"
        }
       ],
       "ref": "639fe52f-23a5-4dd6-a148-051aad85ca2d",
       "rows": [
        [
         "0",
         "Dry",
         "Coast",
         "1.12 ± 0.12"
        ],
        [
         "1",
         "Dry",
         "Plume",
         "1.06 ± 0.04"
        ],
        [
         "2",
         "Dry",
         "River",
         "1.00 ± 0.04"
        ],
        [
         "3",
         "Rainy",
         "Coast",
         "1.09 ± 0.13"
        ],
        [
         "4",
         "Rainy",
         "Plume",
         "1.03 ± 0.05"
        ],
        [
         "5",
         "Rainy",
         "River",
         "0.94 ± 0.03"
        ]
       ],
       "shape": {
        "columns": 3,
        "rows": 6
       }
      },
      "text/html": [
       "<div>\n",
       "<style scoped>\n",
       "    .dataframe tbody tr th:only-of-type {\n",
       "        vertical-align: middle;\n",
       "    }\n",
       "\n",
       "    .dataframe tbody tr th {\n",
       "        vertical-align: top;\n",
       "    }\n",
       "\n",
       "    .dataframe thead th {\n",
       "        text-align: right;\n",
       "    }\n",
       "</style>\n",
       "<table border=\"1\" class=\"dataframe\">\n",
       "  <thead>\n",
       "    <tr style=\"text-align: right;\">\n",
       "      <th></th>\n",
       "      <th>season</th>\n",
       "      <th>area</th>\n",
       "      <th>TA_DIC_ratio (mean ± sd)</th>\n",
       "    </tr>\n",
       "  </thead>\n",
       "  <tbody>\n",
       "    <tr>\n",
       "      <th>0</th>\n",
       "      <td>Dry</td>\n",
       "      <td>Coast</td>\n",
       "      <td>1.12 ± 0.12</td>\n",
       "    </tr>\n",
       "    <tr>\n",
       "      <th>1</th>\n",
       "      <td>Dry</td>\n",
       "      <td>Plume</td>\n",
       "      <td>1.06 ± 0.04</td>\n",
       "    </tr>\n",
       "    <tr>\n",
       "      <th>2</th>\n",
       "      <td>Dry</td>\n",
       "      <td>River</td>\n",
       "      <td>1.00 ± 0.04</td>\n",
       "    </tr>\n",
       "    <tr>\n",
       "      <th>3</th>\n",
       "      <td>Rainy</td>\n",
       "      <td>Coast</td>\n",
       "      <td>1.09 ± 0.13</td>\n",
       "    </tr>\n",
       "    <tr>\n",
       "      <th>4</th>\n",
       "      <td>Rainy</td>\n",
       "      <td>Plume</td>\n",
       "      <td>1.03 ± 0.05</td>\n",
       "    </tr>\n",
       "    <tr>\n",
       "      <th>5</th>\n",
       "      <td>Rainy</td>\n",
       "      <td>River</td>\n",
       "      <td>0.94 ± 0.03</td>\n",
       "    </tr>\n",
       "  </tbody>\n",
       "</table>\n",
       "</div>"
      ],
      "text/plain": [
       "  season   area TA_DIC_ratio (mean ± sd)\n",
       "0    Dry  Coast              1.12 ± 0.12\n",
       "1    Dry  Plume              1.06 ± 0.04\n",
       "2    Dry  River              1.00 ± 0.04\n",
       "3  Rainy  Coast              1.09 ± 0.13\n",
       "4  Rainy  Plume              1.03 ± 0.05\n",
       "5  Rainy  River              0.94 ± 0.03"
      ]
     },
     "execution_count": 8,
     "metadata": {},
     "output_type": "execute_result"
    }
   ],
   "source": [
    "res_area_for"
   ]
  },
  {
   "cell_type": "code",
   "execution_count": 9,
   "metadata": {},
   "outputs": [
    {
     "name": "stdout",
     "output_type": "stream",
     "text": [
      "\n",
      "=== Results by season ===\n",
      "+--------+--------------------------+\n",
      "| season | TA_DIC_ratio (mean ± sd) |\n",
      "+--------+--------------------------+\n",
      "|  Dry   |       1.06 ± 0.09        |\n",
      "| Rainy  |       1.02 ± 0.10        |\n",
      "+--------+--------------------------+\n",
      "\n",
      "=== Results by season and area ===\n",
      "+--------+-------+--------------------------+\n",
      "| season | area  | TA_DIC_ratio (mean ± sd) |\n",
      "+--------+-------+--------------------------+\n",
      "|  Dry   | Coast |       1.12 ± 0.12        |\n",
      "|  Dry   | Plume |       1.06 ± 0.04        |\n",
      "|  Dry   | River |       1.00 ± 0.04        |\n",
      "| Rainy  | Coast |       1.09 ± 0.13        |\n",
      "| Rainy  | Plume |       1.03 ± 0.05        |\n",
      "| Rainy  | River |       0.94 ± 0.03        |\n",
      "+--------+-------+--------------------------+\n"
     ]
    }
   ],
   "source": [
    "# Display the table with the formatted results using tabulate\n",
    "\n",
    "t1 = tabulate(res_season[['season', 'TA_DIC_ratio (mean ± sd)']], headers='keys', tablefmt='pretty', showindex=False)\n",
    "print(\"\\n=== Results by season ===\")\n",
    "print(t1)\n",
    "\n",
    "t2 = tabulate(res_area[['season', 'area', 'TA_DIC_ratio (mean ± sd)']], headers='keys', tablefmt='pretty', showindex=False)\n",
    "print(\"\\n=== Results by season and area ===\")\n",
    "print(t2)"
   ]
  },
  {
   "cell_type": "markdown",
   "metadata": {},
   "source": [
    " - Save the results to an Excel file called \"TA_DIC_Season_Areas.xlsx"
   ]
  },
  {
   "cell_type": "code",
   "execution_count": 10,
   "metadata": {},
   "outputs": [
    {
     "name": "stdout",
     "output_type": "stream",
     "text": [
      "CSV guardados: Season.csv, Season_Areas.csv\n",
      "Archivo Excel guardado: TA_DIC_Season_Areas.xlsx\n"
     ]
    }
   ],
   "source": [
    "# Save CVS files\n",
    "res_season_for.to_csv(\"Season.csv\", index=False)\n",
    "res_area_for.to_csv(\"Season_Areas.csv\", index=False)\n",
    "print(\"CSV guardados: Season.csv, Season_Areas.csv\")\n",
    "\n",
    "# Read CSV files and export them to a single Excel workbook with two worksheets\n",
    "out_xlsx = \"TA_DIC_Season_Areas.xlsx\"\n",
    "season_csv = import_csv(\"Season.csv\")\n",
    "season_areas_csv = import_csv(\"Season_Areas.csv\")\n",
    "\n",
    "with pd.ExcelWriter(out_xlsx) as wr:\n",
    "    season_csv.to_excel(wr, sheet_name=\"Season\", index=False)\n",
    "    season_areas_csv.to_excel(wr, sheet_name=\"Season_Areas\", index=False)\n",
    "\n",
    "print(f\"Archivo Excel guardado: {out_xlsx}\")"
   ]
  },
  {
   "cell_type": "code",
   "execution_count": 11,
   "metadata": {},
   "outputs": [
    {
     "data": {
      "application/vnd.microsoft.datawrangler.viewer.v0+json": {
       "columns": [
        {
         "name": "index",
         "rawType": "int64",
         "type": "integer"
        },
        {
         "name": "season",
         "rawType": "object",
         "type": "string"
        },
        {
         "name": "TA_DIC_ratio (mean ± sd)",
         "rawType": "object",
         "type": "string"
        }
       ],
       "ref": "e5c7bf0b-3d3a-4c1f-ab97-0e5efe668718",
       "rows": [
        [
         "0",
         "Dry",
         "1.06 ± 0.09"
        ],
        [
         "1",
         "Rainy",
         "1.02 ± 0.10"
        ]
       ],
       "shape": {
        "columns": 2,
        "rows": 2
       }
      },
      "text/html": [
       "<div>\n",
       "<style scoped>\n",
       "    .dataframe tbody tr th:only-of-type {\n",
       "        vertical-align: middle;\n",
       "    }\n",
       "\n",
       "    .dataframe tbody tr th {\n",
       "        vertical-align: top;\n",
       "    }\n",
       "\n",
       "    .dataframe thead th {\n",
       "        text-align: right;\n",
       "    }\n",
       "</style>\n",
       "<table border=\"1\" class=\"dataframe\">\n",
       "  <thead>\n",
       "    <tr style=\"text-align: right;\">\n",
       "      <th></th>\n",
       "      <th>season</th>\n",
       "      <th>TA_DIC_ratio (mean ± sd)</th>\n",
       "    </tr>\n",
       "  </thead>\n",
       "  <tbody>\n",
       "    <tr>\n",
       "      <th>0</th>\n",
       "      <td>Dry</td>\n",
       "      <td>1.06 ± 0.09</td>\n",
       "    </tr>\n",
       "    <tr>\n",
       "      <th>1</th>\n",
       "      <td>Rainy</td>\n",
       "      <td>1.02 ± 0.10</td>\n",
       "    </tr>\n",
       "  </tbody>\n",
       "</table>\n",
       "</div>"
      ],
      "text/plain": [
       "  season TA_DIC_ratio (mean ± sd)\n",
       "0    Dry              1.06 ± 0.09\n",
       "1  Rainy              1.02 ± 0.10"
      ]
     },
     "execution_count": 11,
     "metadata": {},
     "output_type": "execute_result"
    }
   ],
   "source": [
    "season_csv"
   ]
  },
  {
   "cell_type": "code",
   "execution_count": 12,
   "metadata": {},
   "outputs": [
    {
     "data": {
      "application/vnd.microsoft.datawrangler.viewer.v0+json": {
       "columns": [
        {
         "name": "index",
         "rawType": "int64",
         "type": "integer"
        },
        {
         "name": "season",
         "rawType": "object",
         "type": "string"
        },
        {
         "name": "area",
         "rawType": "object",
         "type": "string"
        },
        {
         "name": "TA_DIC_ratio (mean ± sd)",
         "rawType": "object",
         "type": "string"
        }
       ],
       "ref": "bc2eea5f-6197-45b5-865a-70682d42bd08",
       "rows": [
        [
         "0",
         "Dry",
         "Coast",
         "1.12 ± 0.12"
        ],
        [
         "1",
         "Dry",
         "Plume",
         "1.06 ± 0.04"
        ],
        [
         "2",
         "Dry",
         "River",
         "1.00 ± 0.04"
        ],
        [
         "3",
         "Rainy",
         "Coast",
         "1.09 ± 0.13"
        ],
        [
         "4",
         "Rainy",
         "Plume",
         "1.03 ± 0.05"
        ],
        [
         "5",
         "Rainy",
         "River",
         "0.94 ± 0.03"
        ]
       ],
       "shape": {
        "columns": 3,
        "rows": 6
       }
      },
      "text/html": [
       "<div>\n",
       "<style scoped>\n",
       "    .dataframe tbody tr th:only-of-type {\n",
       "        vertical-align: middle;\n",
       "    }\n",
       "\n",
       "    .dataframe tbody tr th {\n",
       "        vertical-align: top;\n",
       "    }\n",
       "\n",
       "    .dataframe thead th {\n",
       "        text-align: right;\n",
       "    }\n",
       "</style>\n",
       "<table border=\"1\" class=\"dataframe\">\n",
       "  <thead>\n",
       "    <tr style=\"text-align: right;\">\n",
       "      <th></th>\n",
       "      <th>season</th>\n",
       "      <th>area</th>\n",
       "      <th>TA_DIC_ratio (mean ± sd)</th>\n",
       "    </tr>\n",
       "  </thead>\n",
       "  <tbody>\n",
       "    <tr>\n",
       "      <th>0</th>\n",
       "      <td>Dry</td>\n",
       "      <td>Coast</td>\n",
       "      <td>1.12 ± 0.12</td>\n",
       "    </tr>\n",
       "    <tr>\n",
       "      <th>1</th>\n",
       "      <td>Dry</td>\n",
       "      <td>Plume</td>\n",
       "      <td>1.06 ± 0.04</td>\n",
       "    </tr>\n",
       "    <tr>\n",
       "      <th>2</th>\n",
       "      <td>Dry</td>\n",
       "      <td>River</td>\n",
       "      <td>1.00 ± 0.04</td>\n",
       "    </tr>\n",
       "    <tr>\n",
       "      <th>3</th>\n",
       "      <td>Rainy</td>\n",
       "      <td>Coast</td>\n",
       "      <td>1.09 ± 0.13</td>\n",
       "    </tr>\n",
       "    <tr>\n",
       "      <th>4</th>\n",
       "      <td>Rainy</td>\n",
       "      <td>Plume</td>\n",
       "      <td>1.03 ± 0.05</td>\n",
       "    </tr>\n",
       "    <tr>\n",
       "      <th>5</th>\n",
       "      <td>Rainy</td>\n",
       "      <td>River</td>\n",
       "      <td>0.94 ± 0.03</td>\n",
       "    </tr>\n",
       "  </tbody>\n",
       "</table>\n",
       "</div>"
      ],
      "text/plain": [
       "  season   area TA_DIC_ratio (mean ± sd)\n",
       "0    Dry  Coast              1.12 ± 0.12\n",
       "1    Dry  Plume              1.06 ± 0.04\n",
       "2    Dry  River              1.00 ± 0.04\n",
       "3  Rainy  Coast              1.09 ± 0.13\n",
       "4  Rainy  Plume              1.03 ± 0.05\n",
       "5  Rainy  River              0.94 ± 0.03"
      ]
     },
     "execution_count": 12,
     "metadata": {},
     "output_type": "execute_result"
    }
   ],
   "source": [
    "season_areas_csv"
   ]
  }
 ],
 "metadata": {
  "kernelspec": {
   "display_name": "base",
   "language": "python",
   "name": "python3"
  },
  "language_info": {
   "codemirror_mode": {
    "name": "ipython",
    "version": 3
   },
   "file_extension": ".py",
   "mimetype": "text/x-python",
   "name": "python",
   "nbconvert_exporter": "python",
   "pygments_lexer": "ipython3",
   "version": "3.13.5"
  }
 },
 "nbformat": 4,
 "nbformat_minor": 4
}
