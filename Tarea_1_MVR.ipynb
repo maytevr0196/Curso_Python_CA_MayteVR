{
 "cells": [
  {
   "cell_type": "markdown",
   "id": "1d083e7a",
   "metadata": {},
   "source": [
    "# Tarea 1"
   ]
  },
  {
   "cell_type": "markdown",
   "id": "a2f5d0ed",
   "metadata": {},
   "source": [
    "## Ejercicio 1"
   ]
  },
  {
   "cell_type": "markdown",
   "id": "c035a1d8",
   "metadata": {},
   "source": [
    "### *Imprimir \"Hola Mundo\"*"
   ]
  },
  {
   "cell_type": "code",
   "execution_count": 1,
   "id": "c549ed24",
   "metadata": {},
   "outputs": [
    {
     "name": "stdout",
     "output_type": "stream",
     "text": [
      "Hola Mundo\n"
     ]
    }
   ],
   "source": [
    "print(\"Hola Mundo\")"
   ]
  },
  {
   "cell_type": "markdown",
   "id": "f7fb0885",
   "metadata": {},
   "source": [
    "## Ejercicio 2"
   ]
  },
  {
   "cell_type": "markdown",
   "id": "2b97098d",
   "metadata": {},
   "source": [
    "### *Operaciones aritméticas*"
   ]
  },
  {
   "cell_type": "markdown",
   "id": "b58d3d32",
   "metadata": {},
   "source": [
    "#### **Adición**"
   ]
  },
  {
   "cell_type": "code",
   "execution_count": 6,
   "id": "be6f80af",
   "metadata": {},
   "outputs": [
    {
     "name": "stdout",
     "output_type": "stream",
     "text": [
      "34\n"
     ]
    }
   ],
   "source": [
    "A = 24\n",
    "B = 10\n",
    "Suma = A + B\n",
    "print(Suma)"
   ]
  },
  {
   "cell_type": "markdown",
   "id": "dc3c87b0",
   "metadata": {},
   "source": [
    "#### **Sustración**"
   ]
  },
  {
   "cell_type": "code",
   "execution_count": 7,
   "id": "7a39706d",
   "metadata": {},
   "outputs": [
    {
     "name": "stdout",
     "output_type": "stream",
     "text": [
      "14\n"
     ]
    }
   ],
   "source": [
    "Resta = A - B\n",
    "print (Resta)"
   ]
  },
  {
   "cell_type": "markdown",
   "id": "643feadf",
   "metadata": {},
   "source": [
    "#### **Multiplicación**"
   ]
  },
  {
   "cell_type": "code",
   "execution_count": 8,
   "id": "9fea88bd",
   "metadata": {},
   "outputs": [
    {
     "name": "stdout",
     "output_type": "stream",
     "text": [
      "240\n"
     ]
    }
   ],
   "source": [
    "Mult = A*B\n",
    "print (Mult)"
   ]
  },
  {
   "cell_type": "markdown",
   "id": "c04e7d0c",
   "metadata": {},
   "source": [
    "#### **División**"
   ]
  },
  {
   "cell_type": "code",
   "execution_count": 9,
   "id": "dbde1158",
   "metadata": {},
   "outputs": [
    {
     "name": "stdout",
     "output_type": "stream",
     "text": [
      "2.4\n"
     ]
    }
   ],
   "source": [
    "Div = A/B\n",
    "print (Div)"
   ]
  }
 ],
 "metadata": {
  "kernelspec": {
   "display_name": "base",
   "language": "python",
   "name": "python3"
  },
  "language_info": {
   "codemirror_mode": {
    "name": "ipython",
    "version": 3
   },
   "file_extension": ".py",
   "mimetype": "text/x-python",
   "name": "python",
   "nbconvert_exporter": "python",
   "pygments_lexer": "ipython3",
   "version": "3.13.5"
  }
 },
 "nbformat": 4,
 "nbformat_minor": 5
}
