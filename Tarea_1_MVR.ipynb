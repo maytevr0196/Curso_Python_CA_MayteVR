{
 "cells": [
  {
   "cell_type": "markdown",
   "id": "1d083e7a",
   "metadata": {},
   "source": [
    "Tarea 1"
   ]
  },
  {
   "cell_type": "markdown",
   "id": "a2f5d0ed",
   "metadata": {},
   "source": [
    "Imprimir \"Hola Mundo\""
   ]
  },
  {
   "cell_type": "code",
   "execution_count": 1,
   "id": "c549ed24",
   "metadata": {},
   "outputs": [
    {
     "name": "stdout",
     "output_type": "stream",
     "text": [
      "Hola Mundo\n"
     ]
    }
   ],
   "source": [
    "print(\"Hola Mundo\")"
   ]
  }
 ],
 "metadata": {
  "kernelspec": {
   "display_name": "base",
   "language": "python",
   "name": "python3"
  },
  "language_info": {
   "codemirror_mode": {
    "name": "ipython",
    "version": 3
   },
   "file_extension": ".py",
   "mimetype": "text/x-python",
   "name": "python",
   "nbconvert_exporter": "python",
   "pygments_lexer": "ipython3",
   "version": "3.13.5"
  }
 },
 "nbformat": 4,
 "nbformat_minor": 5
}
